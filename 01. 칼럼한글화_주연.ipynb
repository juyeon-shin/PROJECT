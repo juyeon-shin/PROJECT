{
  "nbformat": 4,
  "nbformat_minor": 0,
  "metadata": {
    "colab": {
      "name": "20211008_칼럼한글화_주연.ipynb",
      "provenance": [],
      "collapsed_sections": [],
      "include_colab_link": true
    },
    "kernelspec": {
      "name": "python3",
      "display_name": "Python 3"
    },
    "language_info": {
      "name": "python"
    }
  },
  "cells": [
    {
      "cell_type": "markdown",
      "metadata": {
        "id": "view-in-github",
        "colab_type": "text"
      },
      "source": [
        "<a href=\"https://colab.research.google.com/github/juyeon-shin/PROJECT/blob/main/01.%20%EC%B9%BC%EB%9F%BC%ED%95%9C%EA%B8%80%ED%99%94_%EC%A3%BC%EC%97%B0.ipynb\" target=\"_parent\"><img src=\"https://colab.research.google.com/assets/colab-badge.svg\" alt=\"Open In Colab\"/></a>"
      ]
    },
    {
      "cell_type": "markdown",
      "metadata": {
        "id": "W_vNPxfww6tw"
      },
      "source": [
        "### 1. 데이터 불러오기 & 모듈 불러오기"
      ]
    },
    {
      "cell_type": "code",
      "metadata": {
        "colab": {
          "base_uri": "https://localhost:8080/"
        },
        "id": "68on7Qjnw2bK",
        "outputId": "54fd04c8-6f5c-4f66-ec9b-afdd8e3725bf"
      },
      "source": [
        "from google.colab import drive\n",
        "drive.mount('/content/drive')"
      ],
      "execution_count": null,
      "outputs": [
        {
          "output_type": "stream",
          "name": "stdout",
          "text": [
            "Mounted at /content/drive\n"
          ]
        }
      ]
    },
    {
      "cell_type": "code",
      "metadata": {
        "id": "0O7w3N7u0x2w"
      },
      "source": [
        "import matplotlib.font_manager as fm\n",
        "fontpath = '/usr/share/fonts/truetype/nanum/NanumBarunGothic.ttf'\n",
        "font = fm.FontProperties(fname=fontpath, size=9)"
      ],
      "execution_count": null,
      "outputs": []
    },
    {
      "cell_type": "code",
      "metadata": {
        "id": "ed9TErjk2gwb"
      },
      "source": [
        "# 기본 글꼴 변경\n",
        "import matplotlib as mpl\n",
        "mpl.font_manager._rebuild()\n",
        "mpl.pyplot.rc('font', family='NanumBarunGothic')"
      ],
      "execution_count": null,
      "outputs": []
    },
    {
      "cell_type": "code",
      "metadata": {
        "id": "TOAuxnEN2gz4"
      },
      "source": [
        "import io\n",
        "import pandas as pd\n",
        "import numpy as np\n",
        "import warnings\n",
        "warnings.filterwarnings('ignore')"
      ],
      "execution_count": null,
      "outputs": []
    },
    {
      "cell_type": "markdown",
      "metadata": {
        "id": "2qPugzIKJafD"
      },
      "source": [
        "### 2. 전처리"
      ]
    },
    {
      "cell_type": "code",
      "metadata": {
        "id": "-f6HtIOHihc9"
      },
      "source": [
        "FC3 = pd.read_excel('/content/drive/Shareddrives/2021 CJ 대한통운 공모전/2021년 미래기술 챌린지_211005/1. 이커머스 FC주문 데이터/1-1. 이커머스 FC주문 데이터_3월.csv')\n",
        "FC4 = pd.read_excel('/content/drive/Shareddrives/2021 CJ 대한통운 공모전/2021년 미래기술 챌린지_211005/1. 이커머스 FC주문 데이터/1-2. 이커머스 FC주문 데이터_4월.csv')\n",
        "FC5 = pd.read_excel('/content/drive/Shareddrives/2021 CJ 대한통운 공모전/2021년 미래기술 챌린지_211005/1. 이커머스 FC주문 데이터/1-3. 이커머스 FC주문 데이터_5월.csv')\n",
        "FC6 = pd.read_excel('/content/drive/Shareddrives/2021 CJ 대한통운 공모전/2021년 미래기술 챌린지_211005/1. 이커머스 FC주문 데이터/1-4. 이커머스 FC주문 데이터_6월.csv')"
      ],
      "execution_count": null,
      "outputs": []
    },
    {
      "cell_type": "code",
      "metadata": {
        "id": "2rJ3j1RvqLiU",
        "colab": {
          "base_uri": "https://localhost:8080/"
        },
        "outputId": "b6c5e0e5-5dc0-49de-fcc8-52b3633b0a9f"
      },
      "source": [
        "columns={'CORP_ID':'창고코드'\t,'REF_ORD_NO':'고객주문번호',\t'BKG_NO':'대한통운주문번호',\t'BKG_TYP':'주문유형',\t'BKG_DATE':'주문날짜',\t'BKG_TIME':'주문시간'\t,'SHPR_CD':'고객사코드','INV_AMT'\t:'주문금액','ITEM_SEQ':'품목순번','ITEM_CD':'품목코드',\t'BRAND_NM':'브랜드'\t,'ITEM_QTY':'품목수량',\t'ITEM_AMT':'품목금액',\t'IF_YN':'수신여부',\t'ORDER_CRT_DATETIME':'주문생성시간',\t'DLV_DV':'택배구분'\t,'REF_ITEM_SEQ':'상품주문번호'\t,'ORDER_IDX':'중개업체주문번호',\t\"ORDER_YN\":'접수여부',\t'DLVPREARRBRANCD':'배달예정점소코드'\t,'DLVPREARREMPNICKNM':'배달예정사원분류코드',\t'DLVCLSFCD':'배달터미널코드',\t'DLVSUBCLSFCD':'배달터미널소분류코드'\t,'INS_ID':'입력자ID',\t'INS_DATE':'입력일자'\t,'INS_TIME':'입력시간',\t'POST_ZONE':'권역구분',\t'SPLIT_EXEC_YN':'배송처별주문분할여부',\t'SHPR_ADDR_1':'송화인주소1',\t'SHPR_ADDR_2':'송화인주소2'\t,'CNEE_ADDR_1':'수화인주소1',\t'CNEE_ADDR_2':'수화인주소2'}\n",
        "columns"
      ],
      "execution_count": null,
      "outputs": [
        {
          "output_type": "execute_result",
          "data": {
            "text/plain": [
              "{'BKG_DATE': '주문날짜',\n",
              " 'BKG_NO': '대한통운주문번호',\n",
              " 'BKG_TIME': '주문시간',\n",
              " 'BKG_TYP': '주문유형',\n",
              " 'BRAND_NM': '브랜드',\n",
              " 'CNEE_ADDR_1': '수화인주소1',\n",
              " 'CNEE_ADDR_2': '수화인주소2',\n",
              " 'CORP_ID': '창고코드',\n",
              " 'DLVCLSFCD': '배달터미널코드',\n",
              " 'DLVPREARRBRANCD': '배달예정점소코드',\n",
              " 'DLVPREARREMPNICKNM': '배달예정사원분류코드',\n",
              " 'DLVSUBCLSFCD': '배달터미널소분류코드',\n",
              " 'DLV_DV': '택배구분',\n",
              " 'IF_YN': '수신여부',\n",
              " 'INS_DATE': '입력일자',\n",
              " 'INS_ID': '입력자ID',\n",
              " 'INS_TIME': '입력시간',\n",
              " 'INV_AMT': '주문금액',\n",
              " 'ITEM_AMT': '품목금액',\n",
              " 'ITEM_CD': '품목코드',\n",
              " 'ITEM_QTY': '품목수량',\n",
              " 'ITEM_SEQ': '품목순번',\n",
              " 'ORDER_CRT_DATETIME': '주문생성시간',\n",
              " 'ORDER_IDX': '중개업체주문번호',\n",
              " 'ORDER_YN': '접수여부',\n",
              " 'POST_ZONE': '권역구분',\n",
              " 'REF_ITEM_SEQ': '상품주문번호',\n",
              " 'REF_ORD_NO': '고객주문번호',\n",
              " 'SHPR_ADDR_1': '송화인주소1',\n",
              " 'SHPR_ADDR_2': '송화인주소2',\n",
              " 'SHPR_CD': '고객사코드',\n",
              " 'SPLIT_EXEC_YN': '배송처별주문분할여부'}"
            ]
          },
          "metadata": {},
          "execution_count": 7
        }
      ]
    },
    {
      "cell_type": "code",
      "metadata": {
        "id": "q8COOPc8HMYF"
      },
      "source": [
        "FC3 =FC3.rename(columns=columns)\n",
        "FC4 =FC4.rename(columns=columns)\n",
        "FC5 =FC5.rename(columns=columns)\n",
        "FC6 =FC6.rename(columns=columns)"
      ],
      "execution_count": null,
      "outputs": []
    },
    {
      "cell_type": "code",
      "metadata": {
        "id": "1jTi6EyxluHL"
      },
      "source": [
        "FC3 = FC3.dropna(axis=0, subset=['배달터미널코드'], inplace=False)\n",
        "FC4 = FC4.dropna(axis=0, subset=['배달터미널코드'], inplace=False)\n",
        "FC5 = FC5.dropna(axis=0, subset=['배달터미널코드'], inplace=False)\n",
        "FC6 = FC6.dropna(axis=0, subset=['배달터미널코드'], inplace=False)\n",
        "\n",
        "FC3 = FC3.dropna(axis=0, subset=['수화인주소2'], inplace=False)\n",
        "FC4 = FC4.dropna(axis=0, subset=['수화인주소2'], inplace=False)\n",
        "FC5 = FC5.dropna(axis=0, subset=['수화인주소2'], inplace=False)\n",
        "FC6 = FC6.dropna(axis=0, subset=['수화인주소2'], inplace=False)"
      ],
      "execution_count": null,
      "outputs": []
    },
    {
      "cell_type": "code",
      "metadata": {
        "colab": {
          "base_uri": "https://localhost:8080/"
        },
        "id": "SkvB8sdRhvHL",
        "outputId": "66876cdf-ac25-46fd-aa75-2691b20de878"
      },
      "source": [
        "FC3.isnull().sum()"
      ],
      "execution_count": null,
      "outputs": [
        {
          "output_type": "execute_result",
          "data": {
            "text/plain": [
              "창고코드              0\n",
              "고객주문번호            0\n",
              "대한통운주문번호          3\n",
              "주문유형              0\n",
              "주문날짜              0\n",
              "주문시간              0\n",
              "고객사코드             0\n",
              "주문금액           3806\n",
              "품목순번              0\n",
              "품목코드              0\n",
              "브랜드            7462\n",
              "품목수량              0\n",
              "품목금액           3051\n",
              "수신여부              0\n",
              "주문생성시간         7462\n",
              "택배구분              0\n",
              "상품주문번호          263\n",
              "중개업체주문번호          0\n",
              "접수여부              0\n",
              "배달예정점소코드          0\n",
              "배달예정사원분류코드     9378\n",
              "배달터미널코드           0\n",
              "배달터미널소분류코드        0\n",
              "입력자ID             0\n",
              "입력일자              0\n",
              "입력시간              0\n",
              "권역구분              0\n",
              "배송처별주문분할여부        0\n",
              "송화인주소1            0\n",
              "송화인주소2        13024\n",
              "수화인주소1            2\n",
              "수화인주소2         6842\n",
              "dtype: int64"
            ]
          },
          "metadata": {},
          "execution_count": 10
        }
      ]
    },
    {
      "cell_type": "code",
      "metadata": {
        "id": "NkwtYr-KwX-P"
      },
      "source": [
        "#!pip install sklearn\n",
        "#!pip install Imputer"
      ],
      "execution_count": null,
      "outputs": []
    },
    {
      "cell_type": "code",
      "metadata": {
        "id": "vHL5Oy9rzRb6"
      },
      "source": [
        "#from sklearn.impute import SimpleImputer\n",
        "#imputer = Imputer(strategy='most_frequent')\n",
        "#imputer.fit(FC3)\n",
        "#X = imputer.transform(FC3)"
      ],
      "execution_count": null,
      "outputs": []
    },
    {
      "cell_type": "code",
      "metadata": {
        "id": "iksy18NGCzIn"
      },
      "source": [
        "FC3.to_csv('/content/drive/Shareddrives/2021 CJ 대한통운 공모전/2021년 미래기술 챌린지_211005/1. 이커머스 FC주문 데이터/1-1. 이커머스 FC주문 데이터_3월(전처리).csv', index=False)\n",
        "FC4.to_csv('/content/drive/Shareddrives/2021 CJ 대한통운 공모전/2021년 미래기술 챌린지_211005/1. 이커머스 FC주문 데이터/1-2. 이커머스 FC주문 데이터_4월(전처리).csv', index=False)\n",
        "FC5.to_csv('/content/drive/Shareddrives/2021 CJ 대한통운 공모전/2021년 미래기술 챌린지_211005/1. 이커머스 FC주문 데이터/1-3. 이커머스 FC주문 데이터_5월(전처리).csv', index=False)\n",
        "FC6.to_csv('/content/drive/Shareddrives/2021 CJ 대한통운 공모전/2021년 미래기술 챌린지_211005/1. 이커머스 FC주문 데이터/1-4. 이커머스 FC주문 데이터_6월(전처리).csv', index=False)"
      ],
      "execution_count": null,
      "outputs": []
    },
    {
      "cell_type": "code",
      "metadata": {
        "id": "EcoC1VC1lpKS"
      },
      "source": [
        ""
      ],
      "execution_count": null,
      "outputs": []
    }
  ]
}