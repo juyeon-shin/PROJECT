{
 "cells": [
  {
   "cell_type": "code",
   "execution_count": 47,
   "id": "60b10513",
   "metadata": {},
   "outputs": [],
   "source": [
    "inside_ori = set(['자전거','피트니스', '스포츠댄스', '웨이트', '격투기', '탁구', '배드민턴', '테니스', '농구', '배구','수영/물놀이','스케이트/썰매','이용권/입장권'])\n",
    "outside_ori = set(['캠핑','등산','자전거','인라인/스케이트보드/킥보드','낚시','골프','기타구기/필드스포츠','축구','테니스','농구','야구','수영/물놀이','스키/보드','기타시즌스포츠','스케이트/썰매','이용권/입장권','여행/레져'])\n",
    "\n",
    "active_ori = set(['기타아웃도어/레저','탁구','캠핑','등산','자전거','인라인/스케이트보드/킥보드','피트니스','스포츠댄스','웨이트','격투기', '기타구기/필드스포츠','배드민턴', '축구','테니스','농구','배구','야구','수영/물놀이','스키/보드','기타시즌스포츠','여행/레저','이용권/입장권'])\n",
    "inactive_ori = set(['낚시','골프', '탁구','스케이트/썰매','여행/레저','이용권/입장권'])\n",
    "\n",
    "trend = set(['자전거','기타아웃도어/레저','캠핑','낚시','골프','기타구기/필드스포츠','피트니스','웨이트','테니스','수영/물놀이','스키/보드','기타시즌스포츠','이용권/입장권','여행/레져'])\n",
    "basic = set(['등산','자전거','인라인/스케이트보드/킥보드','피트니스','스포츠댄스','웨이트','격투기','탁구','배드민턴','축구','농구','배구','야구','스케이트/썰매'])\n",
    "\n",
    "seasonal_ori = set(['캠핑', '등산','수영/물놀이', '스키/보드', '기타시즌스포츠','낚시', '스케이트/썰매','골프','기타아웃도어/레저','자전거','인라인/스케이트보드/킥보드','낚시','여행/레저','축구'])\n",
    "nonseasonal_ori = set(['자전거','피트니스','스포츠댄스', '웨이트', '격투기', '탁구', '배드민턴','테니스', '농구', '배구', '야구', '이용권/입장권'])\n",
    "\n",
    "only = set(['캠핑', '등산', '자전거', '인라인/스케이트보드/킥보드', '낚시', '피트니스','웨이트', '격투기','수영/물놀이'])\n",
    "many = set(['기타아웃도어/레저', '캠핑', '등산', '자전거', '인라인/스케이트보드/킥보드', '낚시','스포츠댄스', '격투기', '골프', '기타구기/필드스포츠', '탁구', '배드민턴', '축구',\n",
    "'테니스', '농구', '배구', '야구', '수영/물놀이', '스키/보드', '기타시즌스포츠', '스케이트/썰매','이용권/입장권', '여행/레저'])\n",
    "              \n",
    "consistent_ori = set(['기타아웃도어/레저', '자전거', '인라인/스케이트보드/킥보드', '피트니스',\n",
    "'스포츠댄스', '웨이트', '격투기', '탁구', '배드민턴', '축구',\n",
    "'테니스', '농구', '배구', '야구', '수영/물놀이','이용권/입장권', '여행/레저'])\n",
    "nonconsistent_ori = set(['기타아웃도어/레저', '캠핑', '등산', '자전거', '인라인/스케이트보드/킥보드', '낚시', '골프', '기타구기/필드스포츠',\n",
    "'수영/물놀이', '스키/보드', '기타시즌스포츠', '스케이트/썰매','이용권/입장권', '여행/레저'])\n",
    "\n",
    "outs = outside_ori|active_ori\n",
    "ins= inside_ori|inactive_ori\n",
    "\n",
    "cons = nonseasonal_ori|consistent_ori\n",
    "noncons = seasonal_ori|nonconsistent_ori"
   ]
  },
  {
   "cell_type": "code",
   "execution_count": 50,
   "id": "d068f735",
   "metadata": {},
   "outputs": [],
   "source": [
    "#ins/outs\n",
    "#trend/basic\n",
    "#only/many\n",
    "#cons/noncons\n",
    "\n",
    "def set_cal(A,B,C,D):\n",
    "    print(A&B&C&D)"
   ]
  },
  {
   "cell_type": "code",
   "execution_count": 58,
   "id": "361637f8",
   "metadata": {},
   "outputs": [
    {
     "name": "stdout",
     "output_type": "stream",
     "text": [
      "{'피트니스', '웨이트', '수영/물놀이', '자전거'}\n",
      "None\n",
      "{'낚시', '수영/물놀이', '자전거'}\n",
      "None\n",
      "{'테니스', '수영/물놀이', '자전거', '이용권/입장권'}\n",
      "None\n",
      "{'골프', '낚시', '수영/물놀이', '이용권/입장권', '자전거'}\n",
      "None\n",
      "{'피트니스', '자전거', '웨이트', '격투기'}\n",
      "None\n",
      "{'자전거'}\n",
      "None\n",
      "{'농구', '배드민턴', '탁구', '격투기', '스포츠댄스', '자전거', '배구'}\n",
      "None\n",
      "{'자전거', '스케이트/썰매'}\n",
      "None\n",
      "{'피트니스', '웨이트', '수영/물놀이', '자전거'}\n",
      "None\n",
      "{'낚시', '수영/물놀이', '자전거', '캠핑'}\n",
      "None\n",
      "{'수영/물놀이', '기타아웃도어/레저', '테니스', '이용권/입장권', '자전거'}\n",
      "None\n",
      "{'스키/보드', '골프', '기타시즌스포츠', '낚시', '수영/물놀이', '기타아웃도어/레저', '캠핑', '기타구기/필드스포츠', '이용권/입장권', '자전거'}\n",
      "None\n",
      "{'웨이트', '자전거', '피트니스', '격투기', '인라인/스케이트보드/킥보드'}\n",
      "None\n",
      "{'등산', '자전거', '인라인/스케이트보드/킥보드'}\n",
      "None\n",
      "{'농구', '야구', '자전거', '축구', '배드민턴', '탁구', '격투기', '스포츠댄스', '인라인/스케이트보드/킥보드', '배구'}\n",
      "None\n",
      "{'스케이트/썰매', '자전거', '축구', '등산', '인라인/스케이트보드/킥보드'}\n",
      "None\n"
     ]
    }
   ],
   "source": [
    "print(set_cal(ins,trend,only,cons))\n",
    "print(set_cal(ins,trend,only,noncons))\n",
    "print(set_cal(ins,trend,many,cons))\n",
    "print(set_cal(ins,trend,many,noncons))\n",
    "\n",
    "print(set_cal(ins,basic,only,cons))\n",
    "print(set_cal(ins,basic,only,noncons))\n",
    "print(set_cal(ins,basic,many,cons))\n",
    "print(set_cal(ins,basic,many,noncons))\n",
    "\n",
    "print(set_cal(outs,trend,only,cons))\n",
    "print(set_cal(outs,trend,only,noncons))\n",
    "print(set_cal(outs,trend,many,cons))\n",
    "print(set_cal(outs,trend,many,noncons))\n",
    "\n",
    "print(set_cal(outs,basic,only,cons))\n",
    "print(set_cal(outs,basic,only,noncons))\n",
    "print(set_cal(outs,basic,many,cons))\n",
    "print(set_cal(outs,basic,many,noncons))"
   ]
  },
  {
   "cell_type": "code",
   "execution_count": null,
   "id": "6d09cc8b",
   "metadata": {},
   "outputs": [],
   "source": []
  }
 ],
 "metadata": {
  "kernelspec": {
   "display_name": "Python 3 (ipykernel)",
   "language": "python",
   "name": "python3"
  },
  "language_info": {
   "codemirror_mode": {
    "name": "ipython",
    "version": 3
   },
   "file_extension": ".py",
   "mimetype": "text/x-python",
   "name": "python",
   "nbconvert_exporter": "python",
   "pygments_lexer": "ipython3",
   "version": "3.8.8"
  }
 },
 "nbformat": 4,
 "nbformat_minor": 5
}
