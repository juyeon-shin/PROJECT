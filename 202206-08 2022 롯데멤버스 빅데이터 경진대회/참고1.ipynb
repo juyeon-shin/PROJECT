{
 "cells": [
  {
   "cell_type": "code",
   "execution_count": null,
   "id": "627f9357",
   "metadata": {},
   "outputs": [],
   "source": [
    "def show_cluster_dist(num_cluster,num_sample=50):\n",
    "    filter_cluster_num = data_train.iloc[rlt_tsm == num_cluster]\n",
    "    function = lambda i, x : filter_cluster_num.iloc[i][x]\n",
    "    plt.figure(figsize=(10,4))\n",
    "    size = len(filter_cluster_num)\n",
    "    for i in range(size):\n",
    "    plt.plot(filter_cluster_num.columns, function(i, filter_cluster_num.columns))\n",
    "    plt.xlabel('date')\n",
    "    plt.ylabel('ration of usage')\n",
    "    plt.ylim([0, 100])\n",
    "    plt.xticks(xticks)\n",
    "    plt.title(\"Changes in usage rate of some cluster\"+str(num_cluster), fontsize=30)\n",
    "    plt.legend()\n",
    "    plt.show()"
   ]
  },
  {
   "cell_type": "code",
   "execution_count": null,
   "id": "eebf58af",
   "metadata": {},
   "outputs": [],
   "source": []
  }
 ],
 "metadata": {
  "kernelspec": {
   "display_name": "Python 3 (ipykernel)",
   "language": "python",
   "name": "python3"
  },
  "language_info": {
   "codemirror_mode": {
    "name": "ipython",
    "version": 3
   },
   "file_extension": ".py",
   "mimetype": "text/x-python",
   "name": "python",
   "nbconvert_exporter": "python",
   "pygments_lexer": "ipython3",
   "version": "3.8.8"
  }
 },
 "nbformat": 4,
 "nbformat_minor": 5
}
