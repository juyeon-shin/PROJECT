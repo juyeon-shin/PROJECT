{
 "cells": [
  {
   "cell_type": "code",
   "execution_count": 10,
   "id": "d2868cf8",
   "metadata": {
    "ExecuteTime": {
     "end_time": "2023-07-10T06:34:40.225506Z",
     "start_time": "2023-07-10T06:34:40.215111Z"
    }
   },
   "outputs": [],
   "source": [
    "import zipfile\n",
    "import os\n",
    "import glob\n",
    "\n",
    "import pandas as pd"
   ]
  },
  {
   "cell_type": "code",
   "execution_count": 2,
   "id": "13fd8023",
   "metadata": {},
   "outputs": [],
   "source": [
    "csv_list = glob.glob('**.csv')\n",
    "\n",
    "for csv in csv_list:\n",
    "    try:\n",
    "        os.remove(csv)\n",
    "    except OSError as e:\n",
    "        print(\"Error: %s : %s\" % (csv, e.strerror))"
   ]
  },
  {
   "cell_type": "code",
   "execution_count": 11,
   "id": "afa64918",
   "metadata": {
    "ExecuteTime": {
     "end_time": "2023-07-10T06:34:43.051275Z",
     "start_time": "2023-07-10T06:34:42.680196Z"
    }
   },
   "outputs": [],
   "source": [
    "zip_list = glob.glob('**.zip')\n",
    "\n",
    "for i in zip_list:\n",
    "    zipfile.ZipFile(i).extractall()\n",
    "    \n",
    "csv_list = glob.glob('**.csv')"
   ]
  },
  {
   "cell_type": "code",
   "execution_count": 3,
   "id": "c5a80296",
   "metadata": {
    "ExecuteTime": {
     "end_time": "2023-07-10T06:14:12.819921Z",
     "start_time": "2023-07-10T06:14:12.792448Z"
    }
   },
   "outputs": [],
   "source": [
    "def mk_sido(data):\n",
    "    add_list = []\n",
    "    for i in range(len(data)):\n",
    "        add_list.append(data['주소'][i][:2])\n",
    "    data['시도'] = add_list\n",
    "    return data\n",
    "\n",
    "def mk_sort(data):\n",
    "    data = data.sort_values(data.columns[4], ascending=False, ignore_index=True)\n",
    "    return data\n",
    "\n",
    "def mk_df(name, sido = True):\n",
    "    df = pd.DataFrame()\n",
    "    list_csv = glob.glob(name)\n",
    "    for i in list_csv:\n",
    "        data = pd.read_csv(i, encoding='cp949')\n",
    "        df = pd.concat([df,data],axis=0, ignore_index=True)\n",
    "        \n",
    "    \n",
    "    if sido == True:\n",
    "        df = mk_sido(df)\n",
    "        df = mk_sort(df)\n",
    "        df.columns = ['순위','관광지명','주소','분류','검색수','시도']\n",
    "       \n",
    "    return df"
   ]
  },
  {
   "cell_type": "markdown",
   "id": "67866a86",
   "metadata": {},
   "source": [
    "### 인기관광지"
   ]
  },
  {
   "cell_type": "code",
   "execution_count": 5,
   "id": "f1eefd16",
   "metadata": {},
   "outputs": [],
   "source": [
    "pop_out = mk_df('*_인기관광지_외지인.csv')\n",
    "pop_in = mk_df('*_인기관광지_현지인.csv')\n",
    "pop_all = mk_df('*_인기관광지_전체.csv')"
   ]
  },
  {
   "cell_type": "code",
   "execution_count": 6,
   "id": "1459792c",
   "metadata": {},
   "outputs": [
    {
     "data": {
      "text/html": [
       "<div>\n",
       "<style scoped>\n",
       "    .dataframe tbody tr th:only-of-type {\n",
       "        vertical-align: middle;\n",
       "    }\n",
       "\n",
       "    .dataframe tbody tr th {\n",
       "        vertical-align: top;\n",
       "    }\n",
       "\n",
       "    .dataframe thead th {\n",
       "        text-align: right;\n",
       "    }\n",
       "</style>\n",
       "<table border=\"1\" class=\"dataframe\">\n",
       "  <thead>\n",
       "    <tr style=\"text-align: right;\">\n",
       "      <th></th>\n",
       "      <th>순위</th>\n",
       "      <th>관광지명</th>\n",
       "      <th>주소</th>\n",
       "      <th>분류</th>\n",
       "      <th>검색수</th>\n",
       "      <th>시도</th>\n",
       "      <th>종류</th>\n",
       "    </tr>\n",
       "  </thead>\n",
       "  <tbody>\n",
       "    <tr>\n",
       "      <th>0</th>\n",
       "      <td>1</td>\n",
       "      <td>인천국제공항제1여객터미널</td>\n",
       "      <td>인천 중구 공항로 272-0</td>\n",
       "      <td>교통시설</td>\n",
       "      <td>2223643</td>\n",
       "      <td>인천</td>\n",
       "      <td>외지인</td>\n",
       "    </tr>\n",
       "    <tr>\n",
       "      <th>1</th>\n",
       "      <td>1</td>\n",
       "      <td>스타필드하남</td>\n",
       "      <td>경기 하남시 미사대로 750-0</td>\n",
       "      <td>쇼핑몰</td>\n",
       "      <td>1945622</td>\n",
       "      <td>경기</td>\n",
       "      <td>외지인</td>\n",
       "    </tr>\n",
       "    <tr>\n",
       "      <th>2</th>\n",
       "      <td>1</td>\n",
       "      <td>김포국제공항국내선</td>\n",
       "      <td>서울 강서구 하늘길 111-0</td>\n",
       "      <td>교통시설</td>\n",
       "      <td>1671746</td>\n",
       "      <td>서울</td>\n",
       "      <td>외지인</td>\n",
       "    </tr>\n",
       "  </tbody>\n",
       "</table>\n",
       "</div>"
      ],
      "text/plain": [
       "   순위           관광지명                 주소    분류      검색수  시도   종류\n",
       "0   1  인천국제공항제1여객터미널    인천 중구 공항로 272-0  교통시설  2223643  인천  외지인\n",
       "1   1         스타필드하남  경기 하남시 미사대로 750-0   쇼핑몰  1945622  경기  외지인\n",
       "2   1      김포국제공항국내선   서울 강서구 하늘길 111-0  교통시설  1671746  서울  외지인"
      ]
     },
     "execution_count": 6,
     "metadata": {},
     "output_type": "execute_result"
    }
   ],
   "source": [
    "pop_out['종류'] = '외지인'\n",
    "pop_in['종류'] = '현지인'\n",
    "pop_all['종류'] = '전체'\n",
    "\n",
    "pop = pd.DataFrame()\n",
    "pop = pd.concat([pop,pop_out,pop_in,pop_all],axis=0)\n",
    "pop.head(3)"
   ]
  },
  {
   "cell_type": "code",
   "execution_count": 7,
   "id": "7dac4530",
   "metadata": {},
   "outputs": [],
   "source": [
    "pop.to_csv('pop.csv',index=False)"
   ]
  },
  {
   "cell_type": "markdown",
   "id": "4667f4ef",
   "metadata": {},
   "source": [
    "### 외국인, 내국인 관심 관광지"
   ]
  },
  {
   "cell_type": "code",
   "execution_count": 8,
   "id": "2daa2752",
   "metadata": {},
   "outputs": [],
   "source": [
    "pop_local = mk_df('*_내국인 관심*.csv',sido=False)\n",
    "pop_for = mk_df('*_외국인 관심*.csv',sido=False)"
   ]
  },
  {
   "cell_type": "code",
   "execution_count": 9,
   "id": "3d958d8b",
   "metadata": {},
   "outputs": [
    {
     "data": {
      "text/html": [
       "<div>\n",
       "<style scoped>\n",
       "    .dataframe tbody tr th:only-of-type {\n",
       "        vertical-align: middle;\n",
       "    }\n",
       "\n",
       "    .dataframe tbody tr th {\n",
       "        vertical-align: top;\n",
       "    }\n",
       "\n",
       "    .dataframe thead th {\n",
       "        text-align: right;\n",
       "    }\n",
       "</style>\n",
       "<table border=\"1\" class=\"dataframe\">\n",
       "  <thead>\n",
       "    <tr style=\"text-align: right;\">\n",
       "      <th></th>\n",
       "      <th>시군구명</th>\n",
       "      <th>시도명</th>\n",
       "      <th>관광지명</th>\n",
       "      <th>Unnamed: 3</th>\n",
       "      <th>KTO카테고리대분류명</th>\n",
       "      <th>KTO카테고리중분류명</th>\n",
       "      <th>KTO카테고리소분류명</th>\n",
       "      <th>방문자수</th>\n",
       "    </tr>\n",
       "  </thead>\n",
       "  <tbody>\n",
       "    <tr>\n",
       "      <th>0</th>\n",
       "      <td>중구</td>\n",
       "      <td>서울특별시</td>\n",
       "      <td>동대문디자인플라자(DDP)</td>\n",
       "      <td>https://korean.visitkorea.or.kr/detail/ms_deta...</td>\n",
       "      <td>인문(문화/예술/역사)</td>\n",
       "      <td>산업관광지</td>\n",
       "      <td>기타</td>\n",
       "      <td>20851</td>\n",
       "    </tr>\n",
       "    <tr>\n",
       "      <th>1</th>\n",
       "      <td>성동구</td>\n",
       "      <td>서울특별시</td>\n",
       "      <td>서울숲</td>\n",
       "      <td>https://korean.visitkorea.or.kr/detail/ms_deta...</td>\n",
       "      <td>자연</td>\n",
       "      <td>자연관광지</td>\n",
       "      <td>자연생태관광지</td>\n",
       "      <td>13032</td>\n",
       "    </tr>\n",
       "    <tr>\n",
       "      <th>2</th>\n",
       "      <td>종로구</td>\n",
       "      <td>서울특별시</td>\n",
       "      <td>익선동</td>\n",
       "      <td>https://korean.visitkorea.or.kr/detail/ms_deta...</td>\n",
       "      <td>인문(문화/예술/역사)</td>\n",
       "      <td>체험관광지</td>\n",
       "      <td>이색체험</td>\n",
       "      <td>12833</td>\n",
       "    </tr>\n",
       "  </tbody>\n",
       "</table>\n",
       "</div>"
      ],
      "text/plain": [
       "  시군구명    시도명            관광지명  \\\n",
       "0   중구  서울특별시  동대문디자인플라자(DDP)   \n",
       "1  성동구  서울특별시             서울숲   \n",
       "2  종로구  서울특별시             익선동   \n",
       "\n",
       "                                          Unnamed: 3   KTO카테고리대분류명  \\\n",
       "0  https://korean.visitkorea.or.kr/detail/ms_deta...  인문(문화/예술/역사)   \n",
       "1  https://korean.visitkorea.or.kr/detail/ms_deta...            자연   \n",
       "2  https://korean.visitkorea.or.kr/detail/ms_deta...  인문(문화/예술/역사)   \n",
       "\n",
       "  KTO카테고리중분류명 KTO카테고리소분류명   방문자수  \n",
       "0       산업관광지          기타  20851  \n",
       "1       자연관광지     자연생태관광지  13032  \n",
       "2       체험관광지        이색체험  12833  "
      ]
     },
     "execution_count": 9,
     "metadata": {},
     "output_type": "execute_result"
    }
   ],
   "source": [
    "pop_local.head(3)"
   ]
  },
  {
   "cell_type": "code",
   "execution_count": 10,
   "id": "486306ab",
   "metadata": {},
   "outputs": [
    {
     "data": {
      "text/html": [
       "<div>\n",
       "<style scoped>\n",
       "    .dataframe tbody tr th:only-of-type {\n",
       "        vertical-align: middle;\n",
       "    }\n",
       "\n",
       "    .dataframe tbody tr th {\n",
       "        vertical-align: top;\n",
       "    }\n",
       "\n",
       "    .dataframe thead th {\n",
       "        text-align: right;\n",
       "    }\n",
       "</style>\n",
       "<table border=\"1\" class=\"dataframe\">\n",
       "  <thead>\n",
       "    <tr style=\"text-align: right;\">\n",
       "      <th></th>\n",
       "      <th>언어명</th>\n",
       "      <th>시군구명</th>\n",
       "      <th>시도명</th>\n",
       "      <th>관광지명</th>\n",
       "      <th>Unnamed: 3</th>\n",
       "      <th>KTO카테고리대분류명</th>\n",
       "      <th>KTO카테고리중분류명</th>\n",
       "      <th>KTO카테고리소분류명</th>\n",
       "      <th>방문자수</th>\n",
       "    </tr>\n",
       "  </thead>\n",
       "  <tbody>\n",
       "    <tr>\n",
       "      <th>0</th>\n",
       "      <td>국어권</td>\n",
       "      <td>중구</td>\n",
       "      <td>서울특별시</td>\n",
       "      <td>동대문디자인플라자(DDP)</td>\n",
       "      <td>https://korean.visitkorea.or.kr/detail/ms_deta...</td>\n",
       "      <td>인문(문화/예술/역사)</td>\n",
       "      <td>산업관광지</td>\n",
       "      <td>기타</td>\n",
       "      <td>20851</td>\n",
       "    </tr>\n",
       "    <tr>\n",
       "      <th>1</th>\n",
       "      <td>국어권</td>\n",
       "      <td>성동구</td>\n",
       "      <td>서울특별시</td>\n",
       "      <td>서울숲</td>\n",
       "      <td>https://korean.visitkorea.or.kr/detail/ms_deta...</td>\n",
       "      <td>자연</td>\n",
       "      <td>자연관광지</td>\n",
       "      <td>자연생태관광지</td>\n",
       "      <td>13032</td>\n",
       "    </tr>\n",
       "    <tr>\n",
       "      <th>2</th>\n",
       "      <td>국어권</td>\n",
       "      <td>종로구</td>\n",
       "      <td>서울특별시</td>\n",
       "      <td>익선동</td>\n",
       "      <td>https://korean.visitkorea.or.kr/detail/ms_deta...</td>\n",
       "      <td>인문(문화/예술/역사)</td>\n",
       "      <td>체험관광지</td>\n",
       "      <td>이색체험</td>\n",
       "      <td>12833</td>\n",
       "    </tr>\n",
       "    <tr>\n",
       "      <th>3</th>\n",
       "      <td>국어권</td>\n",
       "      <td>종로구</td>\n",
       "      <td>서울특별시</td>\n",
       "      <td>경복궁</td>\n",
       "      <td>https://korean.visitkorea.or.kr/detail/ms_deta...</td>\n",
       "      <td>인문(문화/예술/역사)</td>\n",
       "      <td>역사관광지</td>\n",
       "      <td>고궁</td>\n",
       "      <td>11542</td>\n",
       "    </tr>\n",
       "    <tr>\n",
       "      <th>4</th>\n",
       "      <td>국어권</td>\n",
       "      <td>종로구</td>\n",
       "      <td>서울특별시</td>\n",
       "      <td>창덕궁과 후원 [유네스코 세계문화유산]</td>\n",
       "      <td>https://korean.visitkorea.or.kr/detail/ms_deta...</td>\n",
       "      <td>인문(문화/예술/역사)</td>\n",
       "      <td>역사관광지</td>\n",
       "      <td>고궁</td>\n",
       "      <td>8944</td>\n",
       "    </tr>\n",
       "  </tbody>\n",
       "</table>\n",
       "</div>"
      ],
      "text/plain": [
       "   언어명 시군구명    시도명                   관광지명  \\\n",
       "0  국어권   중구  서울특별시         동대문디자인플라자(DDP)   \n",
       "1  국어권  성동구  서울특별시                    서울숲   \n",
       "2  국어권  종로구  서울특별시                    익선동   \n",
       "3  국어권  종로구  서울특별시                    경복궁   \n",
       "4  국어권  종로구  서울특별시  창덕궁과 후원 [유네스코 세계문화유산]   \n",
       "\n",
       "                                          Unnamed: 3   KTO카테고리대분류명  \\\n",
       "0  https://korean.visitkorea.or.kr/detail/ms_deta...  인문(문화/예술/역사)   \n",
       "1  https://korean.visitkorea.or.kr/detail/ms_deta...            자연   \n",
       "2  https://korean.visitkorea.or.kr/detail/ms_deta...  인문(문화/예술/역사)   \n",
       "3  https://korean.visitkorea.or.kr/detail/ms_deta...  인문(문화/예술/역사)   \n",
       "4  https://korean.visitkorea.or.kr/detail/ms_deta...  인문(문화/예술/역사)   \n",
       "\n",
       "  KTO카테고리중분류명 KTO카테고리소분류명   방문자수  \n",
       "0       산업관광지          기타  20851  \n",
       "1       자연관광지     자연생태관광지  13032  \n",
       "2       체험관광지        이색체험  12833  \n",
       "3       역사관광지          고궁  11542  \n",
       "4       역사관광지          고궁   8944  "
      ]
     },
     "execution_count": 10,
     "metadata": {},
     "output_type": "execute_result"
    }
   ],
   "source": [
    "pop_local.insert(0,'언어명','국어권')\n",
    "pop_local.head(5)"
   ]
  },
  {
   "cell_type": "code",
   "execution_count": 11,
   "id": "ef51e608",
   "metadata": {},
   "outputs": [
    {
     "data": {
      "text/html": [
       "<div>\n",
       "<style scoped>\n",
       "    .dataframe tbody tr th:only-of-type {\n",
       "        vertical-align: middle;\n",
       "    }\n",
       "\n",
       "    .dataframe tbody tr th {\n",
       "        vertical-align: top;\n",
       "    }\n",
       "\n",
       "    .dataframe thead th {\n",
       "        text-align: right;\n",
       "    }\n",
       "</style>\n",
       "<table border=\"1\" class=\"dataframe\">\n",
       "  <thead>\n",
       "    <tr style=\"text-align: right;\">\n",
       "      <th></th>\n",
       "      <th>언어명</th>\n",
       "      <th>시군구명</th>\n",
       "      <th>시도명</th>\n",
       "      <th>관광지명</th>\n",
       "      <th>웹사이트</th>\n",
       "      <th>KTO카테고리대분류명</th>\n",
       "      <th>KTO카테고리중분류명</th>\n",
       "      <th>KTO카테고리소분류명</th>\n",
       "      <th>방문자수</th>\n",
       "    </tr>\n",
       "  </thead>\n",
       "  <tbody>\n",
       "    <tr>\n",
       "      <th>0</th>\n",
       "      <td>국어권</td>\n",
       "      <td>중구</td>\n",
       "      <td>서울특별시</td>\n",
       "      <td>동대문디자인플라자(DDP)</td>\n",
       "      <td>https://korean.visitkorea.or.kr/detail/ms_deta...</td>\n",
       "      <td>인문(문화/예술/역사)</td>\n",
       "      <td>산업관광지</td>\n",
       "      <td>기타</td>\n",
       "      <td>20851</td>\n",
       "    </tr>\n",
       "    <tr>\n",
       "      <th>1</th>\n",
       "      <td>국어권</td>\n",
       "      <td>성동구</td>\n",
       "      <td>서울특별시</td>\n",
       "      <td>서울숲</td>\n",
       "      <td>https://korean.visitkorea.or.kr/detail/ms_deta...</td>\n",
       "      <td>자연</td>\n",
       "      <td>자연관광지</td>\n",
       "      <td>자연생태관광지</td>\n",
       "      <td>13032</td>\n",
       "    </tr>\n",
       "    <tr>\n",
       "      <th>2</th>\n",
       "      <td>국어권</td>\n",
       "      <td>종로구</td>\n",
       "      <td>서울특별시</td>\n",
       "      <td>익선동</td>\n",
       "      <td>https://korean.visitkorea.or.kr/detail/ms_deta...</td>\n",
       "      <td>인문(문화/예술/역사)</td>\n",
       "      <td>체험관광지</td>\n",
       "      <td>이색체험</td>\n",
       "      <td>12833</td>\n",
       "    </tr>\n",
       "  </tbody>\n",
       "</table>\n",
       "</div>"
      ],
      "text/plain": [
       "   언어명 시군구명    시도명            관광지명  \\\n",
       "0  국어권   중구  서울특별시  동대문디자인플라자(DDP)   \n",
       "1  국어권  성동구  서울특별시             서울숲   \n",
       "2  국어권  종로구  서울특별시             익선동   \n",
       "\n",
       "                                                웹사이트   KTO카테고리대분류명  \\\n",
       "0  https://korean.visitkorea.or.kr/detail/ms_deta...  인문(문화/예술/역사)   \n",
       "1  https://korean.visitkorea.or.kr/detail/ms_deta...            자연   \n",
       "2  https://korean.visitkorea.or.kr/detail/ms_deta...  인문(문화/예술/역사)   \n",
       "\n",
       "  KTO카테고리중분류명 KTO카테고리소분류명   방문자수  \n",
       "0       산업관광지          기타  20851  \n",
       "1       자연관광지     자연생태관광지  13032  \n",
       "2       체험관광지        이색체험  12833  "
      ]
     },
     "execution_count": 11,
     "metadata": {},
     "output_type": "execute_result"
    }
   ],
   "source": [
    "pop_local.columns  = ['언어명', '시군구명', '시도명', '관광지명','웹사이트', \n",
    "                      'KTO카테고리대분류명', 'KTO카테고리중분류명', 'KTO카테고리소분류명', '방문자수']\n",
    "pop_for.columns = ['언어명', '시군구명', '시도명', '관광지명','웹사이트',\n",
    "                   'KTO카테고리대분류명', 'KTO카테고리중분류명', 'KTO카테고리소분류명', '방문자수']\n",
    "\n",
    "pop_lofor = pd.concat([pop_local,pop_for],axis=0)\n",
    "pop_lofor.head(3)"
   ]
  },
  {
   "cell_type": "code",
   "execution_count": 12,
   "id": "5824786a",
   "metadata": {},
   "outputs": [],
   "source": [
    "pop_lofor.to_csv('pop_lofor.csv', index=False)"
   ]
  },
  {
   "cell_type": "markdown",
   "id": "c50b17be",
   "metadata": {},
   "source": [
    "### 주요 유료관광지점"
   ]
  },
  {
   "cell_type": "code",
   "execution_count": 13,
   "id": "7808eeff",
   "metadata": {},
   "outputs": [
    {
     "data": {
      "text/html": [
       "<div>\n",
       "<style scoped>\n",
       "    .dataframe tbody tr th:only-of-type {\n",
       "        vertical-align: middle;\n",
       "    }\n",
       "\n",
       "    .dataframe tbody tr th {\n",
       "        vertical-align: top;\n",
       "    }\n",
       "\n",
       "    .dataframe thead th {\n",
       "        text-align: right;\n",
       "    }\n",
       "</style>\n",
       "<table border=\"1\" class=\"dataframe\">\n",
       "  <thead>\n",
       "    <tr style=\"text-align: right;\">\n",
       "      <th></th>\n",
       "      <th>순위</th>\n",
       "      <th>광역지자체명</th>\n",
       "      <th>기초지자체명</th>\n",
       "      <th>관광지명</th>\n",
       "      <th>입장객수</th>\n",
       "    </tr>\n",
       "  </thead>\n",
       "  <tbody>\n",
       "    <tr>\n",
       "      <th>6</th>\n",
       "      <td>1</td>\n",
       "      <td>서울특별시</td>\n",
       "      <td>송파구</td>\n",
       "      <td>롯데월드</td>\n",
       "      <td>559225.0</td>\n",
       "    </tr>\n",
       "    <tr>\n",
       "      <th>18</th>\n",
       "      <td>2</td>\n",
       "      <td>서울특별시</td>\n",
       "      <td>용산구</td>\n",
       "      <td>국립중앙박물관</td>\n",
       "      <td>365286.0</td>\n",
       "    </tr>\n",
       "    <tr>\n",
       "      <th>30</th>\n",
       "      <td>3</td>\n",
       "      <td>서울특별시</td>\n",
       "      <td>종로구</td>\n",
       "      <td>경복궁</td>\n",
       "      <td>199536.0</td>\n",
       "    </tr>\n",
       "  </tbody>\n",
       "</table>\n",
       "</div>"
      ],
      "text/plain": [
       "    순위 광역지자체명 기초지자체명     관광지명      입장객수\n",
       "6    1  서울특별시    송파구     롯데월드  559225.0\n",
       "18   2  서울특별시    용산구  국립중앙박물관  365286.0\n",
       "30   3  서울특별시    종로구      경복궁  199536.0"
      ]
     },
     "execution_count": 13,
     "metadata": {},
     "output_type": "execute_result"
    }
   ],
   "source": [
    "pop_pay = mk_df('*_주요 유료관광지점*.csv', sido=False)\n",
    "pop_pay = pop_pay[pop_pay['기준연월'] == 202212]\n",
    "pop_pay = pop_pay.drop(['기준연월','Unnamed: 6'],axis=1)\n",
    "pop_pay.head(3)"
   ]
  },
  {
   "cell_type": "code",
   "execution_count": 14,
   "id": "6c7026d3",
   "metadata": {},
   "outputs": [],
   "source": [
    "pop_pay.to_csv('pop_pay.csv',index=False)"
   ]
  },
  {
   "cell_type": "markdown",
   "id": "3aa1d2a4",
   "metadata": {},
   "source": [
    "### 중심관광지"
   ]
  },
  {
   "cell_type": "code",
   "execution_count": 12,
   "id": "44ed832d",
   "metadata": {
    "ExecuteTime": {
     "end_time": "2023-07-10T06:34:53.799348Z",
     "start_time": "2023-07-10T06:34:53.624164Z"
    }
   },
   "outputs": [
    {
     "data": {
      "text/html": [
       "<div>\n",
       "<style scoped>\n",
       "    .dataframe tbody tr th:only-of-type {\n",
       "        vertical-align: middle;\n",
       "    }\n",
       "\n",
       "    .dataframe tbody tr th {\n",
       "        vertical-align: top;\n",
       "    }\n",
       "\n",
       "    .dataframe thead th {\n",
       "        text-align: right;\n",
       "    }\n",
       "</style>\n",
       "<table border=\"1\" class=\"dataframe\">\n",
       "  <thead>\n",
       "    <tr style=\"text-align: right;\">\n",
       "      <th></th>\n",
       "      <th>Latitude</th>\n",
       "      <th>Longitude</th>\n",
       "      <th>관광지명</th>\n",
       "      <th>주소</th>\n",
       "      <th>중심카테고리명</th>\n",
       "      <th>대분류</th>\n",
       "      <th>순위</th>\n",
       "    </tr>\n",
       "  </thead>\n",
       "  <tbody>\n",
       "    <tr>\n",
       "      <th>0</th>\n",
       "      <td>126.9282</td>\n",
       "      <td>37.5260</td>\n",
       "      <td>더현대/서울</td>\n",
       "      <td>서울 영등포구 여의대로 108-0</td>\n",
       "      <td>관광지</td>\n",
       "      <td>쇼핑</td>\n",
       "      <td>1</td>\n",
       "    </tr>\n",
       "    <tr>\n",
       "      <th>1</th>\n",
       "      <td>127.0042</td>\n",
       "      <td>37.5050</td>\n",
       "      <td>신세계백화점/강남점</td>\n",
       "      <td>서울 서초구 신반포로 176-0</td>\n",
       "      <td>관광지</td>\n",
       "      <td>쇼핑</td>\n",
       "      <td>2</td>\n",
       "    </tr>\n",
       "    <tr>\n",
       "      <th>2</th>\n",
       "      <td>126.9034</td>\n",
       "      <td>37.5172</td>\n",
       "      <td>타임스퀘어</td>\n",
       "      <td>서울 영등포구 영중로 15-0</td>\n",
       "      <td>관광지</td>\n",
       "      <td>쇼핑</td>\n",
       "      <td>3</td>\n",
       "    </tr>\n",
       "  </tbody>\n",
       "</table>\n",
       "</div>"
      ],
      "text/plain": [
       "   Latitude  Longitude        관광지명                  주소 중심카테고리명 대분류  순위\n",
       "0  126.9282    37.5260      더현대/서울  서울 영등포구 여의대로 108-0     관광지  쇼핑   1\n",
       "1  127.0042    37.5050  신세계백화점/강남점   서울 서초구 신반포로 176-0     관광지  쇼핑   2\n",
       "2  126.9034    37.5172       타임스퀘어    서울 영등포구 영중로 15-0     관광지  쇼핑   3"
      ]
     },
     "execution_count": 12,
     "metadata": {},
     "output_type": "execute_result"
    }
   ],
   "source": [
    "pop_centre = mk_df('*중심 관광지*.csv', sido=False)\n",
    "pop_centre.columns = ['Latitude','Longitude','관광지명','주소','중심카테고리명','대분류','순위']\n",
    "pop_centre.head(3)"
   ]
  },
  {
   "cell_type": "code",
   "execution_count": 13,
   "id": "c7eadef4",
   "metadata": {
    "ExecuteTime": {
     "end_time": "2023-07-10T06:34:54.756103Z",
     "start_time": "2023-07-10T06:34:54.715029Z"
    }
   },
   "outputs": [],
   "source": [
    "pop_centre.to_csv('pop_centre.csv',index=False)"
   ]
  },
  {
   "cell_type": "markdown",
   "id": "590f01b1",
   "metadata": {},
   "source": [
    "### 목적지 유형별 검색량 (보류)"
   ]
  },
  {
   "cell_type": "markdown",
   "id": "2499ee86",
   "metadata": {},
   "source": [
    "pop_type = mk_df('*목적지*.csv', sido=False)\n",
    "pop_type.head(3)"
   ]
  },
  {
   "cell_type": "markdown",
   "id": "ba114823",
   "metadata": {},
   "source": [
    "pop_type = pop_type[pop_type['기준연월'] == 202212]\n",
    "pop_type"
   ]
  },
  {
   "cell_type": "markdown",
   "id": "cb89efe9",
   "metadata": {},
   "source": [
    "### 지역 맛집"
   ]
  },
  {
   "cell_type": "code",
   "execution_count": 17,
   "id": "752718a3",
   "metadata": {},
   "outputs": [],
   "source": [
    "pop_store_out = mk_df('*맛집_외지인.csv')\n",
    "pop_store_in = mk_df('*맛집_현지인.csv')\n",
    "pop_store_all = mk_df('*맛집_전체.csv')"
   ]
  },
  {
   "cell_type": "code",
   "execution_count": 18,
   "id": "04afb3d3",
   "metadata": {},
   "outputs": [
    {
     "data": {
      "text/html": [
       "<div>\n",
       "<style scoped>\n",
       "    .dataframe tbody tr th:only-of-type {\n",
       "        vertical-align: middle;\n",
       "    }\n",
       "\n",
       "    .dataframe tbody tr th {\n",
       "        vertical-align: top;\n",
       "    }\n",
       "\n",
       "    .dataframe thead th {\n",
       "        text-align: right;\n",
       "    }\n",
       "</style>\n",
       "<table border=\"1\" class=\"dataframe\">\n",
       "  <thead>\n",
       "    <tr style=\"text-align: right;\">\n",
       "      <th></th>\n",
       "      <th>순위</th>\n",
       "      <th>관광지명</th>\n",
       "      <th>주소</th>\n",
       "      <th>분류</th>\n",
       "      <th>검색수</th>\n",
       "      <th>시도</th>\n",
       "      <th>종류</th>\n",
       "    </tr>\n",
       "  </thead>\n",
       "  <tbody>\n",
       "    <tr>\n",
       "      <th>0</th>\n",
       "      <td>1</td>\n",
       "      <td>황리단길</td>\n",
       "      <td>경북 경주시</td>\n",
       "      <td>음식점기타</td>\n",
       "      <td>212675</td>\n",
       "      <td>경북</td>\n",
       "      <td>외지인</td>\n",
       "    </tr>\n",
       "    <tr>\n",
       "      <th>1</th>\n",
       "      <td>1</td>\n",
       "      <td>성심당본점</td>\n",
       "      <td>대전 중구 대종로480번길 15-0</td>\n",
       "      <td>간이음식</td>\n",
       "      <td>152700</td>\n",
       "      <td>대전</td>\n",
       "      <td>외지인</td>\n",
       "    </tr>\n",
       "    <tr>\n",
       "      <th>2</th>\n",
       "      <td>1</td>\n",
       "      <td>스타벅스과천DT점</td>\n",
       "      <td>경기 과천시 중앙로 277-0</td>\n",
       "      <td>카페/찻집</td>\n",
       "      <td>143584</td>\n",
       "      <td>경기</td>\n",
       "      <td>외지인</td>\n",
       "    </tr>\n",
       "    <tr>\n",
       "      <th>3</th>\n",
       "      <td>1</td>\n",
       "      <td>동화가든본점</td>\n",
       "      <td>강원 강릉시 초당순두부길77번길 15-0</td>\n",
       "      <td>한식</td>\n",
       "      <td>133304</td>\n",
       "      <td>강원</td>\n",
       "      <td>외지인</td>\n",
       "    </tr>\n",
       "    <tr>\n",
       "      <th>4</th>\n",
       "      <td>2</td>\n",
       "      <td>청초수물회속초본점</td>\n",
       "      <td>강원 속초시 엑스포로 12-36</td>\n",
       "      <td>전문음식</td>\n",
       "      <td>115487</td>\n",
       "      <td>강원</td>\n",
       "      <td>외지인</td>\n",
       "    </tr>\n",
       "  </tbody>\n",
       "</table>\n",
       "</div>"
      ],
      "text/plain": [
       "   순위       관광지명                      주소     분류     검색수  시도   종류\n",
       "0   1       황리단길                  경북 경주시  음식점기타  212675  경북  외지인\n",
       "1   1      성심당본점     대전 중구 대종로480번길 15-0   간이음식  152700  대전  외지인\n",
       "2   1  스타벅스과천DT점        경기 과천시 중앙로 277-0  카페/찻집  143584  경기  외지인\n",
       "3   1     동화가든본점  강원 강릉시 초당순두부길77번길 15-0     한식  133304  강원  외지인\n",
       "4   2  청초수물회속초본점       강원 속초시 엑스포로 12-36   전문음식  115487  강원  외지인"
      ]
     },
     "execution_count": 18,
     "metadata": {},
     "output_type": "execute_result"
    }
   ],
   "source": [
    "pop_store_out['종류'] = '외지인'\n",
    "pop_store_in['종류'] = '현지인'\n",
    "pop_store_all['종류'] = '전체'\n",
    "\n",
    "pop_store = pd.DataFrame()\n",
    "pop_store = pd.concat([pop_store,pop_store_out,pop_store_in,pop_store_all],axis=0)\n",
    "pop_store.head(5)"
   ]
  },
  {
   "cell_type": "code",
   "execution_count": 19,
   "id": "e6b98b62",
   "metadata": {},
   "outputs": [],
   "source": [
    "pop_store.to_csv('pop_store.csv',index=False)"
   ]
  },
  {
   "cell_type": "code",
   "execution_count": 3,
   "id": "76e5e4cb",
   "metadata": {},
   "outputs": [],
   "source": [
    "csv_list = glob.glob('**.csv')\n",
    "\n",
    "for csv in csv_list:\n",
    "    try:\n",
    "        os.remove(csv)\n",
    "    except OSError as e:\n",
    "        print(\"Error: %s : %s\" % (csv, e.strerror))"
   ]
  },
  {
   "cell_type": "markdown",
   "id": "915b69af",
   "metadata": {},
   "source": [
    "### END OF SCRIPT"
   ]
  }
 ],
 "metadata": {
  "kernelspec": {
   "display_name": "Python [conda env:root] *",
   "language": "python",
   "name": "conda-root-py"
  },
  "language_info": {
   "codemirror_mode": {
    "name": "ipython",
    "version": 3
   },
   "file_extension": ".py",
   "mimetype": "text/x-python",
   "name": "python",
   "nbconvert_exporter": "python",
   "pygments_lexer": "ipython3",
   "version": "3.8.8"
  },
  "toc": {
   "base_numbering": 1,
   "nav_menu": {},
   "number_sections": true,
   "sideBar": true,
   "skip_h1_title": false,
   "title_cell": "Table of Contents",
   "title_sidebar": "Contents",
   "toc_cell": false,
   "toc_position": {},
   "toc_section_display": true,
   "toc_window_display": false
  }
 },
 "nbformat": 4,
 "nbformat_minor": 5
}
