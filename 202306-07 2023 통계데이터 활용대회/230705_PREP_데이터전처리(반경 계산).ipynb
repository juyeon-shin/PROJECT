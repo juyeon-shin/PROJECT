{
 "cells": [
  {
   "cell_type": "code",
   "execution_count": 10,
   "id": "891cb7b9",
   "metadata": {
    "ExecuteTime": {
     "end_time": "2023-07-07T09:47:34.100409Z",
     "start_time": "2023-07-07T09:47:34.078868Z"
    }
   },
   "outputs": [],
   "source": [
    "import pandas as pd\n",
    "import glob"
   ]
  },
  {
   "cell_type": "code",
   "execution_count": 11,
   "id": "4257cd10",
   "metadata": {
    "ExecuteTime": {
     "end_time": "2023-07-07T09:47:34.456022Z",
     "start_time": "2023-07-07T09:47:34.440546Z"
    }
   },
   "outputs": [
    {
     "data": {
      "text/plain": [
       "['final_market.csv',\n",
       " 'final_pop.csv',\n",
       " 'final_pop_lofor.csv',\n",
       " 'final_pop_pay.csv',\n",
       " 'final_pop_store.csv']"
      ]
     },
     "execution_count": 11,
     "metadata": {},
     "output_type": "execute_result"
    }
   ],
   "source": [
    "data_list = glob.glob('final_*.csv')\n",
    "data_list"
   ]
  },
  {
   "cell_type": "code",
   "execution_count": 12,
   "id": "daa0dfa3",
   "metadata": {
    "ExecuteTime": {
     "end_time": "2023-07-07T09:47:34.778143Z",
     "start_time": "2023-07-07T09:47:34.770098Z"
    }
   },
   "outputs": [],
   "source": [
    "from geopy.distance import geodesic"
   ]
  },
  {
   "cell_type": "code",
   "execution_count": 13,
   "id": "3168f204",
   "metadata": {
    "ExecuteTime": {
     "end_time": "2023-07-07T09:47:35.162149Z",
     "start_time": "2023-07-07T09:47:35.139448Z"
    }
   },
   "outputs": [],
   "source": [
    "def caculate_distance_w_market(standard_data, data, standard_datacolumns, datacolumns, radius):\n",
    "    from geopy.distance import geodesic\n",
    "    try :\n",
    "        df_list = []\n",
    "\n",
    "        for i in range(len(standard_data)):\n",
    "            current_location = (standard_data['Latitude'][i], standard_data['Longitude'][i])\n",
    "            \n",
    "            for j in range(len(data)):\n",
    "                location = (data['Latitude'][j], data['Longitude'][j])\n",
    "                distance = geodesic(current_location, location).meters\n",
    "\n",
    "                if distance <= radius:\n",
    "                    df_list.append([\n",
    "                        standard_data[standard_datacolumns][i],\n",
    "                        standard_data['Latitude'][i],\n",
    "                        standard_data['Longitude'][i],\n",
    "                        data[datacolumns][j],\n",
    "                        data['Latitude'][j],\n",
    "                        data['Longitude'][j]\n",
    "                    ])\n",
    "    except :\n",
    "        print('pass')\n",
    "        pass\n",
    "    \n",
    "    try:\n",
    "        df = pd.DataFrame(df_list)\n",
    "        df.columns = ['시장(상점가명)','Latitude','Longitude','관광지명','위도(관광지)','경도(관광지)']\n",
    "        df = df.drop_duplicates(['시장(상점가명)','관광지명'], keep = 'first')\n",
    "        \n",
    "    except :\n",
    "        pass\n",
    "\n",
    "    return df"
   ]
  },
  {
   "cell_type": "code",
   "execution_count": 14,
   "id": "faef9f3c",
   "metadata": {
    "ExecuteTime": {
     "end_time": "2023-07-07T09:47:35.727844Z",
     "start_time": "2023-07-07T09:47:35.706318Z"
    }
   },
   "outputs": [
    {
     "data": {
      "text/plain": [
       "['final_market.csv',\n",
       " 'final_pop.csv',\n",
       " 'final_pop_lofor.csv',\n",
       " 'final_pop_pay.csv',\n",
       " 'final_pop_store.csv']"
      ]
     },
     "execution_count": 14,
     "metadata": {},
     "output_type": "execute_result"
    }
   ],
   "source": [
    "data_list"
   ]
  },
  {
   "cell_type": "code",
   "execution_count": 15,
   "id": "a3b2487a",
   "metadata": {
    "ExecuteTime": {
     "end_time": "2023-07-07T09:47:36.401980Z",
     "start_time": "2023-07-07T09:47:36.107103Z"
    }
   },
   "outputs": [],
   "source": [
    "final_market = pd.read_csv(data_list[0])\n",
    "final_pop = pd.read_csv(data_list[1])\n",
    "final_pop_lofor = pd.read_csv(data_list[2])\n",
    "#final_pop_pay = pd.read_csv(data_list[3])\n",
    "#final_pop_store = pd.read_csv(data_list[4])"
   ]
  },
  {
   "cell_type": "code",
   "execution_count": 16,
   "id": "f4831b1e",
   "metadata": {
    "ExecuteTime": {
     "end_time": "2023-07-07T11:05:54.043445Z",
     "start_time": "2023-07-07T09:47:37.368858Z"
    }
   },
   "outputs": [
    {
     "name": "stdout",
     "output_type": "stream",
     "text": [
      "1810\n"
     ]
    },
    {
     "data": {
      "text/html": [
       "<div>\n",
       "<style scoped>\n",
       "    .dataframe tbody tr th:only-of-type {\n",
       "        vertical-align: middle;\n",
       "    }\n",
       "\n",
       "    .dataframe tbody tr th {\n",
       "        vertical-align: top;\n",
       "    }\n",
       "\n",
       "    .dataframe thead th {\n",
       "        text-align: right;\n",
       "    }\n",
       "</style>\n",
       "<table border=\"1\" class=\"dataframe\">\n",
       "  <thead>\n",
       "    <tr style=\"text-align: right;\">\n",
       "      <th></th>\n",
       "      <th>시장(상점가명)</th>\n",
       "      <th>Latitude</th>\n",
       "      <th>Longitude</th>\n",
       "      <th>관광지명</th>\n",
       "      <th>위도(관광지)</th>\n",
       "      <th>경도(관광지)</th>\n",
       "    </tr>\n",
       "  </thead>\n",
       "  <tbody>\n",
       "    <tr>\n",
       "      <th>0</th>\n",
       "      <td>(주)신정시장</td>\n",
       "      <td>35.153048</td>\n",
       "      <td>126.879331</td>\n",
       "      <td>유스퀘어 광주종합버스터미널</td>\n",
       "      <td>35.160309</td>\n",
       "      <td>126.880131</td>\n",
       "    </tr>\n",
       "    <tr>\n",
       "      <th>1</th>\n",
       "      <td>(주)신정시장</td>\n",
       "      <td>35.153048</td>\n",
       "      <td>126.879331</td>\n",
       "      <td>신세계백화점광주점</td>\n",
       "      <td>35.160309</td>\n",
       "      <td>126.880131</td>\n",
       "    </tr>\n",
       "    <tr>\n",
       "      <th>2</th>\n",
       "      <td>(주)신정시장</td>\n",
       "      <td>35.153048</td>\n",
       "      <td>126.879331</td>\n",
       "      <td>이마트광주점</td>\n",
       "      <td>35.158814</td>\n",
       "      <td>126.882000</td>\n",
       "    </tr>\n",
       "    <tr>\n",
       "      <th>3</th>\n",
       "      <td>(주)신정시장</td>\n",
       "      <td>35.153048</td>\n",
       "      <td>126.879331</td>\n",
       "      <td>신세계백화점광주점신관</td>\n",
       "      <td>35.158814</td>\n",
       "      <td>126.882000</td>\n",
       "    </tr>\n",
       "    <tr>\n",
       "      <th>4</th>\n",
       "      <td>(주)신정시장</td>\n",
       "      <td>35.153048</td>\n",
       "      <td>126.879331</td>\n",
       "      <td>금호월드</td>\n",
       "      <td>35.157791</td>\n",
       "      <td>126.881528</td>\n",
       "    </tr>\n",
       "    <tr>\n",
       "      <th>...</th>\n",
       "      <td>...</td>\n",
       "      <td>...</td>\n",
       "      <td>...</td>\n",
       "      <td>...</td>\n",
       "      <td>...</td>\n",
       "      <td>...</td>\n",
       "    </tr>\n",
       "    <tr>\n",
       "      <th>4392</th>\n",
       "      <td>회성종합시장</td>\n",
       "      <td>35.221679</td>\n",
       "      <td>128.676001</td>\n",
       "      <td>캔버라관광호텔</td>\n",
       "      <td>35.221208</td>\n",
       "      <td>128.676826</td>\n",
       "    </tr>\n",
       "    <tr>\n",
       "      <th>4393</th>\n",
       "      <td>회성종합시장</td>\n",
       "      <td>35.221679</td>\n",
       "      <td>128.676001</td>\n",
       "      <td>롯데시네마창원</td>\n",
       "      <td>35.224542</td>\n",
       "      <td>128.681914</td>\n",
       "    </tr>\n",
       "    <tr>\n",
       "      <th>4405</th>\n",
       "      <td>회진시장</td>\n",
       "      <td>34.844795</td>\n",
       "      <td>127.344979</td>\n",
       "      <td>벌교역</td>\n",
       "      <td>34.842236</td>\n",
       "      <td>127.345403</td>\n",
       "    </tr>\n",
       "    <tr>\n",
       "      <th>4406</th>\n",
       "      <td>횡성시장</td>\n",
       "      <td>38.075027</td>\n",
       "      <td>128.623185</td>\n",
       "      <td>양양전통시장</td>\n",
       "      <td>38.075027</td>\n",
       "      <td>128.623185</td>\n",
       "    </tr>\n",
       "    <tr>\n",
       "      <th>4409</th>\n",
       "      <td>후포시장</td>\n",
       "      <td>36.735565</td>\n",
       "      <td>128.107401</td>\n",
       "      <td>문경종합온천</td>\n",
       "      <td>36.729833</td>\n",
       "      <td>128.109101</td>\n",
       "    </tr>\n",
       "  </tbody>\n",
       "</table>\n",
       "<p>1810 rows × 6 columns</p>\n",
       "</div>"
      ],
      "text/plain": [
       "     시장(상점가명)   Latitude   Longitude            관광지명    위도(관광지)     경도(관광지)\n",
       "0     (주)신정시장  35.153048  126.879331  유스퀘어 광주종합버스터미널  35.160309  126.880131\n",
       "1     (주)신정시장  35.153048  126.879331       신세계백화점광주점  35.160309  126.880131\n",
       "2     (주)신정시장  35.153048  126.879331          이마트광주점  35.158814  126.882000\n",
       "3     (주)신정시장  35.153048  126.879331     신세계백화점광주점신관  35.158814  126.882000\n",
       "4     (주)신정시장  35.153048  126.879331            금호월드  35.157791  126.881528\n",
       "...       ...        ...         ...             ...        ...         ...\n",
       "4392   회성종합시장  35.221679  128.676001         캔버라관광호텔  35.221208  128.676826\n",
       "4393   회성종합시장  35.221679  128.676001         롯데시네마창원  35.224542  128.681914\n",
       "4405     회진시장  34.844795  127.344979             벌교역  34.842236  127.345403\n",
       "4406     횡성시장  38.075027  128.623185          양양전통시장  38.075027  128.623185\n",
       "4409     후포시장  36.735565  128.107401          문경종합온천  36.729833  128.109101\n",
       "\n",
       "[1810 rows x 6 columns]"
      ]
     },
     "execution_count": 16,
     "metadata": {},
     "output_type": "execute_result"
    }
   ],
   "source": [
    "market_pop = caculate_distance_w_market(final_market, final_pop,'시장(상점가명)','관광지명',1000)\n",
    "\n",
    "print(len(market_pop))\n",
    "market_pop"
   ]
  },
  {
   "cell_type": "code",
   "execution_count": 17,
   "id": "2b5cb19c",
   "metadata": {
    "ExecuteTime": {
     "end_time": "2023-07-07T11:05:54.089188Z",
     "start_time": "2023-07-07T11:05:54.049790Z"
    }
   },
   "outputs": [],
   "source": [
    "market_pop.to_csv('market_pop_10.csv',index=False)"
   ]
  },
  {
   "cell_type": "code",
   "execution_count": null,
   "id": "aa0436f4",
   "metadata": {},
   "outputs": [],
   "source": []
  },
  {
   "cell_type": "code",
   "execution_count": 18,
   "id": "f700da67",
   "metadata": {
    "ExecuteTime": {
     "end_time": "2023-07-07T11:05:54.150812Z",
     "start_time": "2023-07-07T11:05:54.092551Z"
    }
   },
   "outputs": [
    {
     "data": {
      "text/html": [
       "<div>\n",
       "<style scoped>\n",
       "    .dataframe tbody tr th:only-of-type {\n",
       "        vertical-align: middle;\n",
       "    }\n",
       "\n",
       "    .dataframe tbody tr th {\n",
       "        vertical-align: top;\n",
       "    }\n",
       "\n",
       "    .dataframe thead th {\n",
       "        text-align: right;\n",
       "    }\n",
       "</style>\n",
       "<table border=\"1\" class=\"dataframe\">\n",
       "  <thead>\n",
       "    <tr style=\"text-align: right;\">\n",
       "      <th></th>\n",
       "      <th>언어명</th>\n",
       "      <th>시군구명</th>\n",
       "      <th>시도명</th>\n",
       "      <th>관광지명</th>\n",
       "      <th>주소</th>\n",
       "      <th>웹사이트</th>\n",
       "      <th>KTO카테고리대분류명</th>\n",
       "      <th>KTO카테고리중분류명</th>\n",
       "      <th>KTO카테고리소분류명</th>\n",
       "      <th>방문자수</th>\n",
       "      <th>주소(도로명)</th>\n",
       "      <th>Latitude</th>\n",
       "      <th>Longitude</th>\n",
       "    </tr>\n",
       "  </thead>\n",
       "  <tbody>\n",
       "    <tr>\n",
       "      <th>0</th>\n",
       "      <td>국어권</td>\n",
       "      <td>중구</td>\n",
       "      <td>서울특별시</td>\n",
       "      <td>동대문디자인플라자(DDP)</td>\n",
       "      <td>중구 서울특별시 동대문디자인플라자(DDP)</td>\n",
       "      <td>https://korean.visitkorea.or.kr/detail/ms_deta...</td>\n",
       "      <td>인문(문화/예술/역사)</td>\n",
       "      <td>산업관광지</td>\n",
       "      <td>기타</td>\n",
       "      <td>20851</td>\n",
       "      <td>중구 서울특별시 동대문디자인플라자(DDP)</td>\n",
       "      <td>37.567947</td>\n",
       "      <td>127.009392</td>\n",
       "    </tr>\n",
       "    <tr>\n",
       "      <th>1</th>\n",
       "      <td>국어권</td>\n",
       "      <td>성동구</td>\n",
       "      <td>서울특별시</td>\n",
       "      <td>서울숲</td>\n",
       "      <td>성동구 서울특별시 서울숲</td>\n",
       "      <td>https://korean.visitkorea.or.kr/detail/ms_deta...</td>\n",
       "      <td>자연</td>\n",
       "      <td>자연관광지</td>\n",
       "      <td>자연생태관광지</td>\n",
       "      <td>13032</td>\n",
       "      <td>성동구 서울특별시 서울숲</td>\n",
       "      <td>37.544388</td>\n",
       "      <td>127.037442</td>\n",
       "    </tr>\n",
       "    <tr>\n",
       "      <th>2</th>\n",
       "      <td>국어권</td>\n",
       "      <td>종로구</td>\n",
       "      <td>서울특별시</td>\n",
       "      <td>익선동</td>\n",
       "      <td>종로구 서울특별시 익선동</td>\n",
       "      <td>https://korean.visitkorea.or.kr/detail/ms_deta...</td>\n",
       "      <td>인문(문화/예술/역사)</td>\n",
       "      <td>체험관광지</td>\n",
       "      <td>이색체험</td>\n",
       "      <td>12833</td>\n",
       "      <td>종로구 서울특별시 익선동</td>\n",
       "      <td>37.574348</td>\n",
       "      <td>126.989706</td>\n",
       "    </tr>\n",
       "  </tbody>\n",
       "</table>\n",
       "</div>"
      ],
      "text/plain": [
       "   언어명 시군구명    시도명            관광지명                        주소  \\\n",
       "0  국어권   중구  서울특별시  동대문디자인플라자(DDP)  중구 서울특별시 동대문디자인플라자(DDP)    \n",
       "1  국어권  성동구  서울특별시             서울숲            성동구 서울특별시 서울숲    \n",
       "2  국어권  종로구  서울특별시             익선동            종로구 서울특별시 익선동    \n",
       "\n",
       "                                                웹사이트   KTO카테고리대분류명  \\\n",
       "0  https://korean.visitkorea.or.kr/detail/ms_deta...  인문(문화/예술/역사)   \n",
       "1  https://korean.visitkorea.or.kr/detail/ms_deta...            자연   \n",
       "2  https://korean.visitkorea.or.kr/detail/ms_deta...  인문(문화/예술/역사)   \n",
       "\n",
       "  KTO카테고리중분류명 KTO카테고리소분류명   방문자수                   주소(도로명)   Latitude  \\\n",
       "0       산업관광지          기타  20851  중구 서울특별시 동대문디자인플라자(DDP)   37.567947   \n",
       "1       자연관광지     자연생태관광지  13032            성동구 서울특별시 서울숲   37.544388   \n",
       "2       체험관광지        이색체험  12833            종로구 서울특별시 익선동   37.574348   \n",
       "\n",
       "    Longitude  \n",
       "0  127.009392  \n",
       "1  127.037442  \n",
       "2  126.989706  "
      ]
     },
     "execution_count": 18,
     "metadata": {},
     "output_type": "execute_result"
    }
   ],
   "source": [
    "final_pop_lofor.head(3)"
   ]
  },
  {
   "cell_type": "code",
   "execution_count": 19,
   "id": "8afc3e10",
   "metadata": {
    "ExecuteTime": {
     "end_time": "2023-07-07T12:17:29.414016Z",
     "start_time": "2023-07-07T11:05:54.159810Z"
    },
    "scrolled": true
   },
   "outputs": [
    {
     "name": "stdout",
     "output_type": "stream",
     "text": [
      "6252\n"
     ]
    },
    {
     "data": {
      "text/html": [
       "<div>\n",
       "<style scoped>\n",
       "    .dataframe tbody tr th:only-of-type {\n",
       "        vertical-align: middle;\n",
       "    }\n",
       "\n",
       "    .dataframe tbody tr th {\n",
       "        vertical-align: top;\n",
       "    }\n",
       "\n",
       "    .dataframe thead th {\n",
       "        text-align: right;\n",
       "    }\n",
       "</style>\n",
       "<table border=\"1\" class=\"dataframe\">\n",
       "  <thead>\n",
       "    <tr style=\"text-align: right;\">\n",
       "      <th></th>\n",
       "      <th>시장(상점가명)</th>\n",
       "      <th>Latitude</th>\n",
       "      <th>Longitude</th>\n",
       "      <th>관광지명</th>\n",
       "      <th>위도(관광지)</th>\n",
       "      <th>경도(관광지)</th>\n",
       "    </tr>\n",
       "  </thead>\n",
       "  <tbody>\n",
       "    <tr>\n",
       "      <th>0</th>\n",
       "      <td>(주)신정시장</td>\n",
       "      <td>35.153048</td>\n",
       "      <td>126.879331</td>\n",
       "      <td>말바우장 / 말바우시장 (2_ 4_ 7_ 9일)</td>\n",
       "      <td>35.160774</td>\n",
       "      <td>126.881210</td>\n",
       "    </tr>\n",
       "    <tr>\n",
       "      <th>1</th>\n",
       "      <td>(주)야음시장</td>\n",
       "      <td>36.366226</td>\n",
       "      <td>127.431569</td>\n",
       "      <td>세천유원지</td>\n",
       "      <td>36.364787</td>\n",
       "      <td>127.441119</td>\n",
       "    </tr>\n",
       "    <tr>\n",
       "      <th>2</th>\n",
       "      <td>(주)야음시장</td>\n",
       "      <td>36.366226</td>\n",
       "      <td>127.431569</td>\n",
       "      <td>편백산림욕장</td>\n",
       "      <td>36.365317</td>\n",
       "      <td>127.425801</td>\n",
       "    </tr>\n",
       "    <tr>\n",
       "      <th>3</th>\n",
       "      <td>(주)야음시장</td>\n",
       "      <td>36.366226</td>\n",
       "      <td>127.431569</td>\n",
       "      <td>Yangji Pine Resort Ski Valley (양지파인리조트 스키장)</td>\n",
       "      <td>36.365689</td>\n",
       "      <td>127.441791</td>\n",
       "    </tr>\n",
       "    <tr>\n",
       "      <th>4</th>\n",
       "      <td>(주)야음시장</td>\n",
       "      <td>36.366226</td>\n",
       "      <td>127.431569</td>\n",
       "      <td>River Land (리버랜드)</td>\n",
       "      <td>36.364787</td>\n",
       "      <td>127.441119</td>\n",
       "    </tr>\n",
       "    <tr>\n",
       "      <th>...</th>\n",
       "      <td>...</td>\n",
       "      <td>...</td>\n",
       "      <td>...</td>\n",
       "      <td>...</td>\n",
       "      <td>...</td>\n",
       "      <td>...</td>\n",
       "    </tr>\n",
       "    <tr>\n",
       "      <th>6479</th>\n",
       "      <td>회진시장</td>\n",
       "      <td>34.844795</td>\n",
       "      <td>127.344979</td>\n",
       "      <td>Jeju Gwandeokjeong Hall (관덕정(제주))</td>\n",
       "      <td>34.843889</td>\n",
       "      <td>127.343333</td>\n",
       "    </tr>\n",
       "    <tr>\n",
       "      <th>6480</th>\n",
       "      <td>후암시장</td>\n",
       "      <td>37.500381</td>\n",
       "      <td>126.915960</td>\n",
       "      <td>Amnam Park (부산 암남공원)</td>\n",
       "      <td>37.492881</td>\n",
       "      <td>126.917271</td>\n",
       "    </tr>\n",
       "    <tr>\n",
       "      <th>6481</th>\n",
       "      <td>후암시장</td>\n",
       "      <td>37.500381</td>\n",
       "      <td>126.915960</td>\n",
       "      <td>Marine City (마린시티)</td>\n",
       "      <td>37.499737</td>\n",
       "      <td>126.920604</td>\n",
       "    </tr>\n",
       "    <tr>\n",
       "      <th>6483</th>\n",
       "      <td>후암시장</td>\n",
       "      <td>37.500381</td>\n",
       "      <td>126.915960</td>\n",
       "      <td>南浦洞乾物??市場（남포동건어물도매시장）</td>\n",
       "      <td>37.493234</td>\n",
       "      <td>126.919712</td>\n",
       "    </tr>\n",
       "    <tr>\n",
       "      <th>6484</th>\n",
       "      <td>흥덕전통시장</td>\n",
       "      <td>36.889905</td>\n",
       "      <td>126.629612</td>\n",
       "      <td>順天樂安邑城 (순천 낙안읍성)</td>\n",
       "      <td>36.891953</td>\n",
       "      <td>126.625310</td>\n",
       "    </tr>\n",
       "  </tbody>\n",
       "</table>\n",
       "<p>6252 rows × 6 columns</p>\n",
       "</div>"
      ],
      "text/plain": [
       "     시장(상점가명)   Latitude   Longitude  \\\n",
       "0     (주)신정시장  35.153048  126.879331   \n",
       "1     (주)야음시장  36.366226  127.431569   \n",
       "2     (주)야음시장  36.366226  127.431569   \n",
       "3     (주)야음시장  36.366226  127.431569   \n",
       "4     (주)야음시장  36.366226  127.431569   \n",
       "...       ...        ...         ...   \n",
       "6479     회진시장  34.844795  127.344979   \n",
       "6480     후암시장  37.500381  126.915960   \n",
       "6481     후암시장  37.500381  126.915960   \n",
       "6483     후암시장  37.500381  126.915960   \n",
       "6484   흥덕전통시장  36.889905  126.629612   \n",
       "\n",
       "                                             관광지명    위도(관광지)     경도(관광지)  \n",
       "0                      말바우장 / 말바우시장 (2_ 4_ 7_ 9일)  35.160774  126.881210  \n",
       "1                                           세천유원지  36.364787  127.441119  \n",
       "2                                          편백산림욕장  36.365317  127.425801  \n",
       "3     Yangji Pine Resort Ski Valley (양지파인리조트 스키장)  36.365689  127.441791  \n",
       "4                               River Land (리버랜드)  36.364787  127.441119  \n",
       "...                                           ...        ...         ...  \n",
       "6479            Jeju Gwandeokjeong Hall (관덕정(제주))  34.843889  127.343333  \n",
       "6480                         Amnam Park (부산 암남공원)  37.492881  126.917271  \n",
       "6481                           Marine City (마린시티)  37.499737  126.920604  \n",
       "6483                        南浦洞乾物??市場（남포동건어물도매시장）  37.493234  126.919712  \n",
       "6484                             順天樂安邑城 (순천 낙안읍성)  36.891953  126.625310  \n",
       "\n",
       "[6252 rows x 6 columns]"
      ]
     },
     "execution_count": 19,
     "metadata": {},
     "output_type": "execute_result"
    }
   ],
   "source": [
    "market_pop_lofor = caculate_distance_w_market(final_market, final_pop_lofor,'시장(상점가명)','관광지명',1000)\n",
    "\n",
    "print(len(market_pop_lofor))\n",
    "market_pop_lofor"
   ]
  },
  {
   "cell_type": "code",
   "execution_count": 20,
   "id": "409b5b8c",
   "metadata": {
    "ExecuteTime": {
     "end_time": "2023-07-07T12:17:29.491713Z",
     "start_time": "2023-07-07T12:17:29.419017Z"
    }
   },
   "outputs": [],
   "source": [
    "market_pop_lofor.to_csv('market_pop_lofor_10.csv',index=False)"
   ]
  },
  {
   "cell_type": "markdown",
   "id": "efaebae6",
   "metadata": {},
   "source": [
    "### END OF SCRIPT"
   ]
  }
 ],
 "metadata": {
  "kernelspec": {
   "display_name": "Python [conda env:root] *",
   "language": "python",
   "name": "conda-root-py"
  },
  "language_info": {
   "codemirror_mode": {
    "name": "ipython",
    "version": 3
   },
   "file_extension": ".py",
   "mimetype": "text/x-python",
   "name": "python",
   "nbconvert_exporter": "python",
   "pygments_lexer": "ipython3",
   "version": "3.8.8"
  },
  "toc": {
   "base_numbering": 1,
   "nav_menu": {},
   "number_sections": true,
   "sideBar": true,
   "skip_h1_title": false,
   "title_cell": "Table of Contents",
   "title_sidebar": "Contents",
   "toc_cell": false,
   "toc_position": {},
   "toc_section_display": true,
   "toc_window_display": false
  }
 },
 "nbformat": 4,
 "nbformat_minor": 5
}
