{
 "cells": [
  {
   "cell_type": "markdown",
   "id": "cc81f483",
   "metadata": {},
   "source": [
    "- 중심 관광지에 시장이 있는 지 확인\n",
    "- 인기 관광지에 시장이 있는 지 확인\n",
    "- 내외국인 관심 관광지에 시장이 있는 지 확인"
   ]
  },
  {
   "cell_type": "code",
   "execution_count": 30,
   "id": "45b9f93d",
   "metadata": {
    "ExecuteTime": {
     "end_time": "2023-07-15T07:58:56.383116Z",
     "start_time": "2023-07-15T07:58:56.366099Z"
    }
   },
   "outputs": [],
   "source": [
    "import pandas as pd"
   ]
  },
  {
   "cell_type": "code",
   "execution_count": 31,
   "id": "bad5d314",
   "metadata": {
    "ExecuteTime": {
     "end_time": "2023-07-15T07:58:56.704560Z",
     "start_time": "2023-07-15T07:58:56.625797Z"
    }
   },
   "outputs": [
    {
     "data": {
      "text/html": [
       "<div>\n",
       "<style scoped>\n",
       "    .dataframe tbody tr th:only-of-type {\n",
       "        vertical-align: middle;\n",
       "    }\n",
       "\n",
       "    .dataframe tbody tr th {\n",
       "        vertical-align: top;\n",
       "    }\n",
       "\n",
       "    .dataframe thead th {\n",
       "        text-align: right;\n",
       "    }\n",
       "</style>\n",
       "<table border=\"1\" class=\"dataframe\">\n",
       "  <thead>\n",
       "    <tr style=\"text-align: right;\">\n",
       "      <th></th>\n",
       "      <th>Unnamed: 0</th>\n",
       "      <th>시장(상점가명)</th>\n",
       "      <th>시장유형</th>\n",
       "      <th>주소(도로명)</th>\n",
       "      <th>주소(지번)</th>\n",
       "      <th>시장개설주기</th>\n",
       "      <th>점포수</th>\n",
       "      <th>취급품목</th>\n",
       "      <th>홈페이지주소</th>\n",
       "      <th>공중화장실보유여부</th>\n",
       "      <th>...</th>\n",
       "      <th>market_pop_10</th>\n",
       "      <th>market_pop_lofor</th>\n",
       "      <th>market_pop_lofor_10</th>\n",
       "      <th>sido</th>\n",
       "      <th>sigungu</th>\n",
       "      <th>code</th>\n",
       "      <th>1km반경 내 역사의 수</th>\n",
       "      <th>500m반경 내 대규모점포 수</th>\n",
       "      <th>1km반경 내 대규모점포 수</th>\n",
       "      <th>300m반경 내 버스정류장 수</th>\n",
       "    </tr>\n",
       "  </thead>\n",
       "  <tbody>\n",
       "    <tr>\n",
       "      <th>0</th>\n",
       "      <td>0</td>\n",
       "      <td>(유)문경시중앙시장</td>\n",
       "      <td>상설장</td>\n",
       "      <td>경상북도 문경시 중앙로 87</td>\n",
       "      <td>경상북도 문경시 점촌동 197-14</td>\n",
       "      <td>매일</td>\n",
       "      <td>38</td>\n",
       "      <td>농산물,가공식품,기타소매업</td>\n",
       "      <td>NaN</td>\n",
       "      <td>Y</td>\n",
       "      <td>...</td>\n",
       "      <td>0.0</td>\n",
       "      <td>0.0</td>\n",
       "      <td>0.0</td>\n",
       "      <td>경북</td>\n",
       "      <td>문경시</td>\n",
       "      <td>37090</td>\n",
       "      <td>0</td>\n",
       "      <td>0</td>\n",
       "      <td>0</td>\n",
       "      <td>2</td>\n",
       "    </tr>\n",
       "  </tbody>\n",
       "</table>\n",
       "<p>1 rows × 49 columns</p>\n",
       "</div>"
      ],
      "text/plain": [
       "   Unnamed: 0    시장(상점가명) 시장유형          주소(도로명)               주소(지번) 시장개설주기  \\\n",
       "0           0  (유)문경시중앙시장  상설장  경상북도 문경시 중앙로 87  경상북도 문경시 점촌동 197-14     매일   \n",
       "\n",
       "   점포수            취급품목 홈페이지주소 공중화장실보유여부  ... market_pop_10 market_pop_lofor  \\\n",
       "0   38  농산물,가공식품,기타소매업    NaN         Y  ...           0.0              0.0   \n",
       "\n",
       "   market_pop_lofor_10  sido sigungu   code 1km반경 내 역사의 수 500m반경 내 대규모점포 수  \\\n",
       "0                  0.0    경북     문경시  37090             0                0   \n",
       "\n",
       "  1km반경 내 대규모점포 수 300m반경 내 버스정류장 수  \n",
       "0               0                2  \n",
       "\n",
       "[1 rows x 49 columns]"
      ]
     },
     "execution_count": 31,
     "metadata": {},
     "output_type": "execute_result"
    }
   ],
   "source": [
    "code_market_count = pd.read_csv('code_market_count.csv')\n",
    "code_market_count.head(1)"
   ]
  },
  {
   "cell_type": "markdown",
   "id": "6029648e",
   "metadata": {},
   "source": [
    "### 중심 관광지에 시장이 있는 지 확인"
   ]
  },
  {
   "cell_type": "code",
   "execution_count": 32,
   "id": "b1e12be8",
   "metadata": {
    "ExecuteTime": {
     "end_time": "2023-07-15T07:58:57.344891Z",
     "start_time": "2023-07-15T07:58:56.999668Z"
    }
   },
   "outputs": [
    {
     "data": {
      "text/html": [
       "<div>\n",
       "<style scoped>\n",
       "    .dataframe tbody tr th:only-of-type {\n",
       "        vertical-align: middle;\n",
       "    }\n",
       "\n",
       "    .dataframe tbody tr th {\n",
       "        vertical-align: top;\n",
       "    }\n",
       "\n",
       "    .dataframe thead th {\n",
       "        text-align: right;\n",
       "    }\n",
       "</style>\n",
       "<table border=\"1\" class=\"dataframe\">\n",
       "  <thead>\n",
       "    <tr style=\"text-align: right;\">\n",
       "      <th></th>\n",
       "      <th>관광지명</th>\n",
       "      <th>주소</th>\n",
       "      <th>Latitude</th>\n",
       "      <th>Longitude</th>\n",
       "      <th>중심카테고리명</th>\n",
       "      <th>대분류</th>\n",
       "      <th>순위</th>\n",
       "    </tr>\n",
       "  </thead>\n",
       "  <tbody>\n",
       "    <tr>\n",
       "      <th>0</th>\n",
       "      <td>더현대/서울</td>\n",
       "      <td>서울 영등포구 여의대로 108-0</td>\n",
       "      <td>37.526050</td>\n",
       "      <td>126.928296</td>\n",
       "      <td>관광지</td>\n",
       "      <td>쇼핑</td>\n",
       "      <td>1.0</td>\n",
       "    </tr>\n",
       "    <tr>\n",
       "      <th>1</th>\n",
       "      <td>신세계백화점/강남점</td>\n",
       "      <td>서울 서초구 신반포로 176-0</td>\n",
       "      <td>37.504364</td>\n",
       "      <td>127.003621</td>\n",
       "      <td>관광지</td>\n",
       "      <td>쇼핑</td>\n",
       "      <td>2.0</td>\n",
       "    </tr>\n",
       "    <tr>\n",
       "      <th>2</th>\n",
       "      <td>타임스퀘어</td>\n",
       "      <td>서울 영등포구 영중로 15-0</td>\n",
       "      <td>37.517075</td>\n",
       "      <td>126.903341</td>\n",
       "      <td>관광지</td>\n",
       "      <td>쇼핑</td>\n",
       "      <td>3.0</td>\n",
       "    </tr>\n",
       "  </tbody>\n",
       "</table>\n",
       "</div>"
      ],
      "text/plain": [
       "         관광지명                  주소   Latitude   Longitude 중심카테고리명 대분류   순위\n",
       "0      더현대/서울  서울 영등포구 여의대로 108-0  37.526050  126.928296     관광지  쇼핑  1.0\n",
       "1  신세계백화점/강남점   서울 서초구 신반포로 176-0  37.504364  127.003621     관광지  쇼핑  2.0\n",
       "2       타임스퀘어    서울 영등포구 영중로 15-0  37.517075  126.903341     관광지  쇼핑  3.0"
      ]
     },
     "execution_count": 32,
     "metadata": {},
     "output_type": "execute_result"
    }
   ],
   "source": [
    "pop_centre = pd.read_excel('pop_centre.xlsx')\n",
    "pop_centre.head(3)"
   ]
  },
  {
   "cell_type": "code",
   "execution_count": 33,
   "id": "e732866b",
   "metadata": {
    "ExecuteTime": {
     "end_time": "2023-07-15T07:58:57.375685Z",
     "start_time": "2023-07-15T07:58:57.348546Z"
    }
   },
   "outputs": [],
   "source": [
    "def find_market_in_data(data,market_col):\n",
    "    market = [i for i in data[market_col] if '시장' in i]\n",
    "    market_in = data[data[market_col].isin(market)]\n",
    "    return market_in"
   ]
  },
  {
   "cell_type": "code",
   "execution_count": 34,
   "id": "28b617b8",
   "metadata": {
    "ExecuteTime": {
     "end_time": "2023-07-15T07:58:57.421768Z",
     "start_time": "2023-07-15T07:58:57.386744Z"
    }
   },
   "outputs": [
    {
     "name": "stdout",
     "output_type": "stream",
     "text": [
      "111\n"
     ]
    },
    {
     "data": {
      "text/html": [
       "<div>\n",
       "<style scoped>\n",
       "    .dataframe tbody tr th:only-of-type {\n",
       "        vertical-align: middle;\n",
       "    }\n",
       "\n",
       "    .dataframe tbody tr th {\n",
       "        vertical-align: top;\n",
       "    }\n",
       "\n",
       "    .dataframe thead th {\n",
       "        text-align: right;\n",
       "    }\n",
       "</style>\n",
       "<table border=\"1\" class=\"dataframe\">\n",
       "  <thead>\n",
       "    <tr style=\"text-align: right;\">\n",
       "      <th></th>\n",
       "      <th>관광지명</th>\n",
       "      <th>주소</th>\n",
       "      <th>Latitude</th>\n",
       "      <th>Longitude</th>\n",
       "      <th>중심카테고리명</th>\n",
       "      <th>대분류</th>\n",
       "      <th>순위</th>\n",
       "    </tr>\n",
       "  </thead>\n",
       "  <tbody>\n",
       "    <tr>\n",
       "      <th>0</th>\n",
       "      <td>노량진수산시장</td>\n",
       "      <td>서울 동작구 노들로 674-0</td>\n",
       "      <td>37.514742</td>\n",
       "      <td>126.937788</td>\n",
       "      <td>관광지</td>\n",
       "      <td>쇼핑</td>\n",
       "      <td>18.0</td>\n",
       "    </tr>\n",
       "    <tr>\n",
       "      <th>1</th>\n",
       "      <td>가락동농수산물도매시장</td>\n",
       "      <td>서울 송파구 양재대로 932-0</td>\n",
       "      <td>37.493482</td>\n",
       "      <td>127.111504</td>\n",
       "      <td>관광지</td>\n",
       "      <td>쇼핑</td>\n",
       "      <td>29.0</td>\n",
       "    </tr>\n",
       "    <tr>\n",
       "      <th>2</th>\n",
       "      <td>광장시장</td>\n",
       "      <td>서울 종로구 창경궁로 88-0</td>\n",
       "      <td>37.570283</td>\n",
       "      <td>126.998714</td>\n",
       "      <td>관광지</td>\n",
       "      <td>쇼핑</td>\n",
       "      <td>34.0</td>\n",
       "    </tr>\n",
       "  </tbody>\n",
       "</table>\n",
       "</div>"
      ],
      "text/plain": [
       "          관광지명                 주소   Latitude   Longitude 중심카테고리명 대분류    순위\n",
       "0      노량진수산시장   서울 동작구 노들로 674-0  37.514742  126.937788     관광지  쇼핑  18.0\n",
       "1  가락동농수산물도매시장  서울 송파구 양재대로 932-0  37.493482  127.111504     관광지  쇼핑  29.0\n",
       "2         광장시장   서울 종로구 창경궁로 88-0  37.570283  126.998714     관광지  쇼핑  34.0"
      ]
     },
     "execution_count": 34,
     "metadata": {},
     "output_type": "execute_result"
    }
   ],
   "source": [
    "centre_yn = find_market_in_data(pop_centre,'관광지명')\n",
    "centre_yn = centre_yn.reset_index(drop=True)\n",
    "print(len(centre_yn))\n",
    "centre_yn.head(3)"
   ]
  },
  {
   "cell_type": "code",
   "execution_count": 35,
   "id": "44c2615e",
   "metadata": {
    "ExecuteTime": {
     "end_time": "2023-07-15T07:58:57.619327Z",
     "start_time": "2023-07-15T07:58:57.566993Z"
    }
   },
   "outputs": [
    {
     "name": "stdout",
     "output_type": "stream",
     "text": [
      "1314\n",
      "55\n",
      "1259\n"
     ]
    }
   ],
   "source": [
    "centre = []\n",
    "\n",
    "for i in code_market_count['시장(상점가명)']:\n",
    "    if i in list(centre_yn['관광지명']):\n",
    "        centre.append(1)\n",
    "    else:\n",
    "        centre.append(0)\n",
    "        \n",
    "print(len(centre))\n",
    "print(centre.count(1))\n",
    "print(centre.count(0))"
   ]
  },
  {
   "cell_type": "code",
   "execution_count": 36,
   "id": "f86004e1",
   "metadata": {
    "ExecuteTime": {
     "end_time": "2023-07-15T07:58:57.785718Z",
     "start_time": "2023-07-15T07:58:57.763721Z"
    }
   },
   "outputs": [
    {
     "name": "stdout",
     "output_type": "stream",
     "text": [
      "1314\n",
      "1314\n"
     ]
    }
   ],
   "source": [
    "df_centre = pd.DataFrame(centre)\n",
    "print(len(df_centre))\n",
    "print(len(code_market_count))"
   ]
  },
  {
   "cell_type": "code",
   "execution_count": 37,
   "id": "343e257f",
   "metadata": {
    "ExecuteTime": {
     "end_time": "2023-07-15T07:58:57.984136Z",
     "start_time": "2023-07-15T07:58:57.958148Z"
    }
   },
   "outputs": [
    {
     "data": {
      "text/html": [
       "<div>\n",
       "<style scoped>\n",
       "    .dataframe tbody tr th:only-of-type {\n",
       "        vertical-align: middle;\n",
       "    }\n",
       "\n",
       "    .dataframe tbody tr th {\n",
       "        vertical-align: top;\n",
       "    }\n",
       "\n",
       "    .dataframe thead th {\n",
       "        text-align: right;\n",
       "    }\n",
       "</style>\n",
       "<table border=\"1\" class=\"dataframe\">\n",
       "  <thead>\n",
       "    <tr style=\"text-align: right;\">\n",
       "      <th></th>\n",
       "      <th>시장(상점가명)</th>\n",
       "      <th>centry_yn</th>\n",
       "    </tr>\n",
       "  </thead>\n",
       "  <tbody>\n",
       "    <tr>\n",
       "      <th>0</th>\n",
       "      <td>(유)문경시중앙시장</td>\n",
       "      <td>0</td>\n",
       "    </tr>\n",
       "    <tr>\n",
       "      <th>1</th>\n",
       "      <td>(주)서시장</td>\n",
       "      <td>0</td>\n",
       "    </tr>\n",
       "    <tr>\n",
       "      <th>2</th>\n",
       "      <td>(주)신정시장</td>\n",
       "      <td>0</td>\n",
       "    </tr>\n",
       "    <tr>\n",
       "      <th>3</th>\n",
       "      <td>(주)야음시장</td>\n",
       "      <td>0</td>\n",
       "    </tr>\n",
       "    <tr>\n",
       "      <th>4</th>\n",
       "      <td>(주)여수수산시장</td>\n",
       "      <td>0</td>\n",
       "    </tr>\n",
       "    <tr>\n",
       "      <th>...</th>\n",
       "      <td>...</td>\n",
       "      <td>...</td>\n",
       "    </tr>\n",
       "    <tr>\n",
       "      <th>1309</th>\n",
       "      <td>후생시장</td>\n",
       "      <td>0</td>\n",
       "    </tr>\n",
       "    <tr>\n",
       "      <th>1310</th>\n",
       "      <td>후암시장</td>\n",
       "      <td>0</td>\n",
       "    </tr>\n",
       "    <tr>\n",
       "      <th>1311</th>\n",
       "      <td>후포시장</td>\n",
       "      <td>0</td>\n",
       "    </tr>\n",
       "    <tr>\n",
       "      <th>1312</th>\n",
       "      <td>흥덕전통시장</td>\n",
       "      <td>0</td>\n",
       "    </tr>\n",
       "    <tr>\n",
       "      <th>1313</th>\n",
       "      <td>흥해시장</td>\n",
       "      <td>0</td>\n",
       "    </tr>\n",
       "  </tbody>\n",
       "</table>\n",
       "<p>1314 rows × 2 columns</p>\n",
       "</div>"
      ],
      "text/plain": [
       "        시장(상점가명)  centry_yn\n",
       "0     (유)문경시중앙시장          0\n",
       "1         (주)서시장          0\n",
       "2        (주)신정시장          0\n",
       "3        (주)야음시장          0\n",
       "4      (주)여수수산시장          0\n",
       "...          ...        ...\n",
       "1309        후생시장          0\n",
       "1310        후암시장          0\n",
       "1311        후포시장          0\n",
       "1312      흥덕전통시장          0\n",
       "1313        흥해시장          0\n",
       "\n",
       "[1314 rows x 2 columns]"
      ]
     },
     "execution_count": 37,
     "metadata": {},
     "output_type": "execute_result"
    }
   ],
   "source": [
    "market_centre = pd.concat([code_market_count['시장(상점가명)'], df_centre],axis=1)\n",
    "market_centre.columns = ['시장(상점가명)','centry_yn']\n",
    "market_centre"
   ]
  },
  {
   "cell_type": "code",
   "execution_count": 38,
   "id": "e77c745f",
   "metadata": {
    "ExecuteTime": {
     "end_time": "2023-07-15T07:58:58.182839Z",
     "start_time": "2023-07-15T07:58:58.134924Z"
    }
   },
   "outputs": [
    {
     "ename": "NameError",
     "evalue": "name 'F' is not defined",
     "output_type": "error",
     "traceback": [
      "\u001b[1;31m---------------------------------------------------------------------------\u001b[0m",
      "\u001b[1;31mNameError\u001b[0m                                 Traceback (most recent call last)",
      "Cell \u001b[1;32mIn [38], line 1\u001b[0m\n\u001b[1;32m----> 1\u001b[0m market_centre\u001b[38;5;241m.\u001b[39mto_csv(\u001b[38;5;124m'\u001b[39m\u001b[38;5;124mmarket_centre_yn.csv\u001b[39m\u001b[38;5;124m'\u001b[39m,index\u001b[38;5;241m=\u001b[39m\u001b[43mF\u001b[49m)\n",
      "\u001b[1;31mNameError\u001b[0m: name 'F' is not defined"
     ]
    }
   ],
   "source": [
    "market_centre.to_csv('market_centre_yn.csv',index=F)"
   ]
  },
  {
   "cell_type": "markdown",
   "id": "8b8c6fd9",
   "metadata": {},
   "source": [
    "### 인기 관광지에 시장이 있는 지 확인"
   ]
  },
  {
   "cell_type": "code",
   "execution_count": 39,
   "id": "3b1cae51",
   "metadata": {
    "ExecuteTime": {
     "end_time": "2023-07-15T07:58:58.593530Z",
     "start_time": "2023-07-15T07:58:58.529773Z"
    }
   },
   "outputs": [
    {
     "data": {
      "text/html": [
       "<div>\n",
       "<style scoped>\n",
       "    .dataframe tbody tr th:only-of-type {\n",
       "        vertical-align: middle;\n",
       "    }\n",
       "\n",
       "    .dataframe tbody tr th {\n",
       "        vertical-align: top;\n",
       "    }\n",
       "\n",
       "    .dataframe thead th {\n",
       "        text-align: right;\n",
       "    }\n",
       "</style>\n",
       "<table border=\"1\" class=\"dataframe\">\n",
       "  <thead>\n",
       "    <tr style=\"text-align: right;\">\n",
       "      <th></th>\n",
       "      <th>순위</th>\n",
       "      <th>관광지명</th>\n",
       "      <th>주소</th>\n",
       "      <th>Latitude</th>\n",
       "      <th>Longitude</th>\n",
       "      <th>분류</th>\n",
       "      <th>검색수</th>\n",
       "      <th>시도</th>\n",
       "      <th>종류</th>\n",
       "    </tr>\n",
       "  </thead>\n",
       "  <tbody>\n",
       "    <tr>\n",
       "      <th>0</th>\n",
       "      <td>1</td>\n",
       "      <td>인천국제공항제1여객터미널</td>\n",
       "      <td>인천 중구 공항로 272-0</td>\n",
       "      <td>37.479489</td>\n",
       "      <td>126.440914</td>\n",
       "      <td>교통시설</td>\n",
       "      <td>2223643</td>\n",
       "      <td>인천</td>\n",
       "      <td>외지인</td>\n",
       "    </tr>\n",
       "    <tr>\n",
       "      <th>1</th>\n",
       "      <td>1</td>\n",
       "      <td>스타필드하남</td>\n",
       "      <td>경기 하남시 미사대로 750-0</td>\n",
       "      <td>37.545485</td>\n",
       "      <td>127.223697</td>\n",
       "      <td>쇼핑몰</td>\n",
       "      <td>1945622</td>\n",
       "      <td>경기</td>\n",
       "      <td>외지인</td>\n",
       "    </tr>\n",
       "    <tr>\n",
       "      <th>2</th>\n",
       "      <td>1</td>\n",
       "      <td>김포국제공항국내선</td>\n",
       "      <td>서울 강서구 하늘길 111-0</td>\n",
       "      <td>37.555890</td>\n",
       "      <td>126.808109</td>\n",
       "      <td>교통시설</td>\n",
       "      <td>1671746</td>\n",
       "      <td>서울</td>\n",
       "      <td>외지인</td>\n",
       "    </tr>\n",
       "  </tbody>\n",
       "</table>\n",
       "</div>"
      ],
      "text/plain": [
       "   순위           관광지명                 주소   Latitude   Longitude    분류      검색수  \\\n",
       "0   1  인천국제공항제1여객터미널    인천 중구 공항로 272-0  37.479489  126.440914  교통시설  2223643   \n",
       "1   1         스타필드하남  경기 하남시 미사대로 750-0  37.545485  127.223697   쇼핑몰  1945622   \n",
       "2   1      김포국제공항국내선   서울 강서구 하늘길 111-0  37.555890  126.808109  교통시설  1671746   \n",
       "\n",
       "   시도   종류  \n",
       "0  인천  외지인  \n",
       "1  경기  외지인  \n",
       "2  서울  외지인  "
      ]
     },
     "execution_count": 39,
     "metadata": {},
     "output_type": "execute_result"
    }
   ],
   "source": [
    "final_pop = pd.read_csv('final_pop.csv')\n",
    "final_pop.head(3)"
   ]
  },
  {
   "cell_type": "code",
   "execution_count": 40,
   "id": "cd3c1722",
   "metadata": {
    "ExecuteTime": {
     "end_time": "2023-07-15T07:58:58.776918Z",
     "start_time": "2023-07-15T07:58:58.735358Z"
    }
   },
   "outputs": [
    {
     "name": "stdout",
     "output_type": "stream",
     "text": [
      "369\n"
     ]
    },
    {
     "data": {
      "text/html": [
       "<div>\n",
       "<style scoped>\n",
       "    .dataframe tbody tr th:only-of-type {\n",
       "        vertical-align: middle;\n",
       "    }\n",
       "\n",
       "    .dataframe tbody tr th {\n",
       "        vertical-align: top;\n",
       "    }\n",
       "\n",
       "    .dataframe thead th {\n",
       "        text-align: right;\n",
       "    }\n",
       "</style>\n",
       "<table border=\"1\" class=\"dataframe\">\n",
       "  <thead>\n",
       "    <tr style=\"text-align: right;\">\n",
       "      <th></th>\n",
       "      <th>순위</th>\n",
       "      <th>관광지명</th>\n",
       "      <th>주소</th>\n",
       "      <th>Latitude</th>\n",
       "      <th>Longitude</th>\n",
       "      <th>분류</th>\n",
       "      <th>검색수</th>\n",
       "      <th>시도</th>\n",
       "      <th>종류</th>\n",
       "    </tr>\n",
       "  </thead>\n",
       "  <tbody>\n",
       "    <tr>\n",
       "      <th>0</th>\n",
       "      <td>1</td>\n",
       "      <td>속초관광수산시장</td>\n",
       "      <td>강원 속초시 중앙로147번길 16-0</td>\n",
       "      <td>38.204541</td>\n",
       "      <td>128.590178</td>\n",
       "      <td>시장</td>\n",
       "      <td>820423</td>\n",
       "      <td>강원</td>\n",
       "      <td>외지인</td>\n",
       "    </tr>\n",
       "    <tr>\n",
       "      <th>1</th>\n",
       "      <td>1</td>\n",
       "      <td>통영중앙전통시장</td>\n",
       "      <td>경남 통영시 중앙시장1길 14-16</td>\n",
       "      <td>34.845294</td>\n",
       "      <td>128.424643</td>\n",
       "      <td>시장</td>\n",
       "      <td>681236</td>\n",
       "      <td>경남</td>\n",
       "      <td>외지인</td>\n",
       "    </tr>\n",
       "    <tr>\n",
       "      <th>2</th>\n",
       "      <td>7</td>\n",
       "      <td>오산오색시장</td>\n",
       "      <td>경기 오산시 오산로278번길 10-0</td>\n",
       "      <td>37.151605</td>\n",
       "      <td>127.069517</td>\n",
       "      <td>시장</td>\n",
       "      <td>590296</td>\n",
       "      <td>경기</td>\n",
       "      <td>외지인</td>\n",
       "    </tr>\n",
       "  </tbody>\n",
       "</table>\n",
       "</div>"
      ],
      "text/plain": [
       "   순위      관광지명                    주소   Latitude   Longitude  분류     검색수  시도  \\\n",
       "0   1  속초관광수산시장  강원 속초시 중앙로147번길 16-0  38.204541  128.590178  시장  820423  강원   \n",
       "1   1  통영중앙전통시장   경남 통영시 중앙시장1길 14-16  34.845294  128.424643  시장  681236  경남   \n",
       "2   7    오산오색시장  경기 오산시 오산로278번길 10-0  37.151605  127.069517  시장  590296  경기   \n",
       "\n",
       "    종류  \n",
       "0  외지인  \n",
       "1  외지인  \n",
       "2  외지인  "
      ]
     },
     "execution_count": 40,
     "metadata": {},
     "output_type": "execute_result"
    }
   ],
   "source": [
    "pop_market = find_market_in_data(final_pop,'관광지명')\n",
    "pop_market = pop_market.reset_index(drop=True)\n",
    "print(len(pop_market))\n",
    "pop_market.head(3)"
   ]
  },
  {
   "cell_type": "code",
   "execution_count": 41,
   "id": "97214036",
   "metadata": {
    "ExecuteTime": {
     "end_time": "2023-07-15T07:58:59.036471Z",
     "start_time": "2023-07-15T07:58:58.937267Z"
    }
   },
   "outputs": [
    {
     "name": "stdout",
     "output_type": "stream",
     "text": [
      "1314\n",
      "88\n",
      "1226\n"
     ]
    }
   ],
   "source": [
    "centre = []\n",
    "\n",
    "for i in code_market_count['시장(상점가명)']:\n",
    "    if i in list(pop_market['관광지명']):\n",
    "        centre.append(1)\n",
    "    else:\n",
    "        centre.append(0)\n",
    "        \n",
    "print(len(centre))\n",
    "print(centre.count(1))\n",
    "print(centre.count(0))"
   ]
  },
  {
   "cell_type": "code",
   "execution_count": 42,
   "id": "407fcd8f",
   "metadata": {
    "ExecuteTime": {
     "end_time": "2023-07-15T07:58:59.188358Z",
     "start_time": "2023-07-15T07:58:59.160700Z"
    }
   },
   "outputs": [
    {
     "data": {
      "text/plain": [
       "0         속초관광수산시장\n",
       "1         통영중앙전통시장\n",
       "2           오산오색시장\n",
       "3      가락동농수산물도매시장\n",
       "4         킨텍스제1전시장\n",
       "          ...     \n",
       "364           대인시장\n",
       "365         수암상가시장\n",
       "366         송정5일시장\n",
       "367           운암시장\n",
       "368        조치원중앙시장\n",
       "Name: 관광지명, Length: 369, dtype: object"
      ]
     },
     "execution_count": 42,
     "metadata": {},
     "output_type": "execute_result"
    }
   ],
   "source": [
    "pop_market['관광지명']"
   ]
  },
  {
   "cell_type": "code",
   "execution_count": 43,
   "id": "121ac052",
   "metadata": {
    "ExecuteTime": {
     "end_time": "2023-07-15T07:58:59.708125Z",
     "start_time": "2023-07-15T07:58:59.690473Z"
    }
   },
   "outputs": [
    {
     "name": "stdout",
     "output_type": "stream",
     "text": [
      "1314\n",
      "1314\n"
     ]
    }
   ],
   "source": [
    "df_centre = pd.DataFrame(centre)\n",
    "print(len(df_centre))\n",
    "print(len(code_market_count))"
   ]
  },
  {
   "cell_type": "code",
   "execution_count": 44,
   "id": "77993095",
   "metadata": {
    "ExecuteTime": {
     "end_time": "2023-07-15T07:59:00.071794Z",
     "start_time": "2023-07-15T07:59:00.035808Z"
    }
   },
   "outputs": [
    {
     "data": {
      "text/html": [
       "<div>\n",
       "<style scoped>\n",
       "    .dataframe tbody tr th:only-of-type {\n",
       "        vertical-align: middle;\n",
       "    }\n",
       "\n",
       "    .dataframe tbody tr th {\n",
       "        vertical-align: top;\n",
       "    }\n",
       "\n",
       "    .dataframe thead th {\n",
       "        text-align: right;\n",
       "    }\n",
       "</style>\n",
       "<table border=\"1\" class=\"dataframe\">\n",
       "  <thead>\n",
       "    <tr style=\"text-align: right;\">\n",
       "      <th></th>\n",
       "      <th>시장(상점가명)</th>\n",
       "      <th>market_pop_yn</th>\n",
       "    </tr>\n",
       "  </thead>\n",
       "  <tbody>\n",
       "    <tr>\n",
       "      <th>0</th>\n",
       "      <td>(유)문경시중앙시장</td>\n",
       "      <td>0</td>\n",
       "    </tr>\n",
       "    <tr>\n",
       "      <th>1</th>\n",
       "      <td>(주)서시장</td>\n",
       "      <td>0</td>\n",
       "    </tr>\n",
       "    <tr>\n",
       "      <th>2</th>\n",
       "      <td>(주)신정시장</td>\n",
       "      <td>0</td>\n",
       "    </tr>\n",
       "    <tr>\n",
       "      <th>3</th>\n",
       "      <td>(주)야음시장</td>\n",
       "      <td>0</td>\n",
       "    </tr>\n",
       "    <tr>\n",
       "      <th>4</th>\n",
       "      <td>(주)여수수산시장</td>\n",
       "      <td>0</td>\n",
       "    </tr>\n",
       "    <tr>\n",
       "      <th>...</th>\n",
       "      <td>...</td>\n",
       "      <td>...</td>\n",
       "    </tr>\n",
       "    <tr>\n",
       "      <th>1309</th>\n",
       "      <td>후생시장</td>\n",
       "      <td>0</td>\n",
       "    </tr>\n",
       "    <tr>\n",
       "      <th>1310</th>\n",
       "      <td>후암시장</td>\n",
       "      <td>0</td>\n",
       "    </tr>\n",
       "    <tr>\n",
       "      <th>1311</th>\n",
       "      <td>후포시장</td>\n",
       "      <td>0</td>\n",
       "    </tr>\n",
       "    <tr>\n",
       "      <th>1312</th>\n",
       "      <td>흥덕전통시장</td>\n",
       "      <td>0</td>\n",
       "    </tr>\n",
       "    <tr>\n",
       "      <th>1313</th>\n",
       "      <td>흥해시장</td>\n",
       "      <td>0</td>\n",
       "    </tr>\n",
       "  </tbody>\n",
       "</table>\n",
       "<p>1314 rows × 2 columns</p>\n",
       "</div>"
      ],
      "text/plain": [
       "        시장(상점가명)  market_pop_yn\n",
       "0     (유)문경시중앙시장              0\n",
       "1         (주)서시장              0\n",
       "2        (주)신정시장              0\n",
       "3        (주)야음시장              0\n",
       "4      (주)여수수산시장              0\n",
       "...          ...            ...\n",
       "1309        후생시장              0\n",
       "1310        후암시장              0\n",
       "1311        후포시장              0\n",
       "1312      흥덕전통시장              0\n",
       "1313        흥해시장              0\n",
       "\n",
       "[1314 rows x 2 columns]"
      ]
     },
     "execution_count": 44,
     "metadata": {},
     "output_type": "execute_result"
    }
   ],
   "source": [
    "pop_market_yn = pd.concat([code_market_count['시장(상점가명)'], df_centre],axis=1)\n",
    "pop_market_yn.columns = ['시장(상점가명)','market_pop_yn']\n",
    "pop_market_yn"
   ]
  },
  {
   "cell_type": "code",
   "execution_count": 45,
   "id": "b632c593",
   "metadata": {
    "ExecuteTime": {
     "end_time": "2023-07-15T07:59:00.330939Z",
     "start_time": "2023-07-15T07:59:00.302423Z"
    }
   },
   "outputs": [
    {
     "data": {
      "text/html": [
       "<div>\n",
       "<style scoped>\n",
       "    .dataframe tbody tr th:only-of-type {\n",
       "        vertical-align: middle;\n",
       "    }\n",
       "\n",
       "    .dataframe tbody tr th {\n",
       "        vertical-align: top;\n",
       "    }\n",
       "\n",
       "    .dataframe thead th {\n",
       "        text-align: right;\n",
       "    }\n",
       "</style>\n",
       "<table border=\"1\" class=\"dataframe\">\n",
       "  <thead>\n",
       "    <tr style=\"text-align: right;\">\n",
       "      <th></th>\n",
       "      <th>시장(상점가명)</th>\n",
       "    </tr>\n",
       "    <tr>\n",
       "      <th>market_pop_yn</th>\n",
       "      <th></th>\n",
       "    </tr>\n",
       "  </thead>\n",
       "  <tbody>\n",
       "    <tr>\n",
       "      <th>0</th>\n",
       "      <td>1226</td>\n",
       "    </tr>\n",
       "    <tr>\n",
       "      <th>1</th>\n",
       "      <td>88</td>\n",
       "    </tr>\n",
       "  </tbody>\n",
       "</table>\n",
       "</div>"
      ],
      "text/plain": [
       "               시장(상점가명)\n",
       "market_pop_yn          \n",
       "0                  1226\n",
       "1                    88"
      ]
     },
     "execution_count": 45,
     "metadata": {},
     "output_type": "execute_result"
    }
   ],
   "source": [
    "pop_market_yn.groupby(['market_pop_yn']).count()"
   ]
  },
  {
   "cell_type": "code",
   "execution_count": 46,
   "id": "2fb2218e",
   "metadata": {
    "ExecuteTime": {
     "end_time": "2023-07-15T07:59:00.649900Z",
     "start_time": "2023-07-15T07:59:00.625964Z"
    }
   },
   "outputs": [],
   "source": [
    "pop_market_yn.to_csv('market_pop_yn.csv',index=False)"
   ]
  },
  {
   "cell_type": "markdown",
   "id": "d4694461",
   "metadata": {},
   "source": [
    "### 내외국인 관심 관광지에 시장이 있는 지 확인"
   ]
  },
  {
   "cell_type": "code",
   "execution_count": 47,
   "id": "0d10bcef",
   "metadata": {
    "ExecuteTime": {
     "end_time": "2023-07-15T07:59:01.579265Z",
     "start_time": "2023-07-15T07:59:01.475409Z"
    }
   },
   "outputs": [
    {
     "data": {
      "text/html": [
       "<div>\n",
       "<style scoped>\n",
       "    .dataframe tbody tr th:only-of-type {\n",
       "        vertical-align: middle;\n",
       "    }\n",
       "\n",
       "    .dataframe tbody tr th {\n",
       "        vertical-align: top;\n",
       "    }\n",
       "\n",
       "    .dataframe thead th {\n",
       "        text-align: right;\n",
       "    }\n",
       "</style>\n",
       "<table border=\"1\" class=\"dataframe\">\n",
       "  <thead>\n",
       "    <tr style=\"text-align: right;\">\n",
       "      <th></th>\n",
       "      <th>언어명</th>\n",
       "      <th>시군구명</th>\n",
       "      <th>시도명</th>\n",
       "      <th>관광지명</th>\n",
       "      <th>주소</th>\n",
       "      <th>웹사이트</th>\n",
       "      <th>KTO카테고리대분류명</th>\n",
       "      <th>KTO카테고리중분류명</th>\n",
       "      <th>KTO카테고리소분류명</th>\n",
       "      <th>방문자수</th>\n",
       "      <th>주소(도로명)</th>\n",
       "      <th>Latitude</th>\n",
       "      <th>Longitude</th>\n",
       "    </tr>\n",
       "  </thead>\n",
       "  <tbody>\n",
       "    <tr>\n",
       "      <th>0</th>\n",
       "      <td>국어권</td>\n",
       "      <td>중구</td>\n",
       "      <td>서울특별시</td>\n",
       "      <td>동대문디자인플라자(DDP)</td>\n",
       "      <td>중구 서울특별시 동대문디자인플라자(DDP)</td>\n",
       "      <td>https://korean.visitkorea.or.kr/detail/ms_deta...</td>\n",
       "      <td>인문(문화/예술/역사)</td>\n",
       "      <td>산업관광지</td>\n",
       "      <td>기타</td>\n",
       "      <td>20851</td>\n",
       "      <td>중구 서울특별시 동대문디자인플라자(DDP)</td>\n",
       "      <td>37.567947</td>\n",
       "      <td>127.009392</td>\n",
       "    </tr>\n",
       "    <tr>\n",
       "      <th>1</th>\n",
       "      <td>국어권</td>\n",
       "      <td>성동구</td>\n",
       "      <td>서울특별시</td>\n",
       "      <td>서울숲</td>\n",
       "      <td>성동구 서울특별시 서울숲</td>\n",
       "      <td>https://korean.visitkorea.or.kr/detail/ms_deta...</td>\n",
       "      <td>자연</td>\n",
       "      <td>자연관광지</td>\n",
       "      <td>자연생태관광지</td>\n",
       "      <td>13032</td>\n",
       "      <td>성동구 서울특별시 서울숲</td>\n",
       "      <td>37.544388</td>\n",
       "      <td>127.037442</td>\n",
       "    </tr>\n",
       "    <tr>\n",
       "      <th>2</th>\n",
       "      <td>국어권</td>\n",
       "      <td>종로구</td>\n",
       "      <td>서울특별시</td>\n",
       "      <td>익선동</td>\n",
       "      <td>종로구 서울특별시 익선동</td>\n",
       "      <td>https://korean.visitkorea.or.kr/detail/ms_deta...</td>\n",
       "      <td>인문(문화/예술/역사)</td>\n",
       "      <td>체험관광지</td>\n",
       "      <td>이색체험</td>\n",
       "      <td>12833</td>\n",
       "      <td>종로구 서울특별시 익선동</td>\n",
       "      <td>37.574348</td>\n",
       "      <td>126.989706</td>\n",
       "    </tr>\n",
       "  </tbody>\n",
       "</table>\n",
       "</div>"
      ],
      "text/plain": [
       "   언어명 시군구명    시도명            관광지명                        주소  \\\n",
       "0  국어권   중구  서울특별시  동대문디자인플라자(DDP)  중구 서울특별시 동대문디자인플라자(DDP)    \n",
       "1  국어권  성동구  서울특별시             서울숲            성동구 서울특별시 서울숲    \n",
       "2  국어권  종로구  서울특별시             익선동            종로구 서울특별시 익선동    \n",
       "\n",
       "                                                웹사이트   KTO카테고리대분류명  \\\n",
       "0  https://korean.visitkorea.or.kr/detail/ms_deta...  인문(문화/예술/역사)   \n",
       "1  https://korean.visitkorea.or.kr/detail/ms_deta...            자연   \n",
       "2  https://korean.visitkorea.or.kr/detail/ms_deta...  인문(문화/예술/역사)   \n",
       "\n",
       "  KTO카테고리중분류명 KTO카테고리소분류명   방문자수                   주소(도로명)   Latitude  \\\n",
       "0       산업관광지          기타  20851  중구 서울특별시 동대문디자인플라자(DDP)   37.567947   \n",
       "1       자연관광지     자연생태관광지  13032            성동구 서울특별시 서울숲   37.544388   \n",
       "2       체험관광지        이색체험  12833            종로구 서울특별시 익선동   37.574348   \n",
       "\n",
       "    Longitude  \n",
       "0  127.009392  \n",
       "1  127.037442  \n",
       "2  126.989706  "
      ]
     },
     "execution_count": 47,
     "metadata": {},
     "output_type": "execute_result"
    }
   ],
   "source": [
    "final_pop_lofor = pd.read_csv('final_pop_lofor.csv')\n",
    "final_pop_lofor.head(3)"
   ]
  },
  {
   "cell_type": "code",
   "execution_count": 48,
   "id": "d70ccd3b",
   "metadata": {
    "ExecuteTime": {
     "end_time": "2023-07-15T07:59:01.856328Z",
     "start_time": "2023-07-15T07:59:01.820007Z"
    },
    "scrolled": true
   },
   "outputs": [
    {
     "name": "stdout",
     "output_type": "stream",
     "text": [
      "117\n"
     ]
    },
    {
     "data": {
      "text/html": [
       "<div>\n",
       "<style scoped>\n",
       "    .dataframe tbody tr th:only-of-type {\n",
       "        vertical-align: middle;\n",
       "    }\n",
       "\n",
       "    .dataframe tbody tr th {\n",
       "        vertical-align: top;\n",
       "    }\n",
       "\n",
       "    .dataframe thead th {\n",
       "        text-align: right;\n",
       "    }\n",
       "</style>\n",
       "<table border=\"1\" class=\"dataframe\">\n",
       "  <thead>\n",
       "    <tr style=\"text-align: right;\">\n",
       "      <th></th>\n",
       "      <th>언어명</th>\n",
       "      <th>시군구명</th>\n",
       "      <th>시도명</th>\n",
       "      <th>관광지명</th>\n",
       "      <th>주소</th>\n",
       "      <th>웹사이트</th>\n",
       "      <th>KTO카테고리대분류명</th>\n",
       "      <th>KTO카테고리중분류명</th>\n",
       "      <th>KTO카테고리소분류명</th>\n",
       "      <th>방문자수</th>\n",
       "      <th>주소(도로명)</th>\n",
       "      <th>Latitude</th>\n",
       "      <th>Longitude</th>\n",
       "    </tr>\n",
       "  </thead>\n",
       "  <tbody>\n",
       "    <tr>\n",
       "      <th>0</th>\n",
       "      <td>국어권</td>\n",
       "      <td>중구</td>\n",
       "      <td>서울특별시</td>\n",
       "      <td>황학동 벼룩시장 (도깨비시장 / 만물시장)</td>\n",
       "      <td>중구 서울특별시 황학동 벼룩시장 (도깨비시장 / 만물시장)</td>\n",
       "      <td>https://korean.visitkorea.or.kr/detail/ms_deta...</td>\n",
       "      <td>쇼핑</td>\n",
       "      <td>쇼핑</td>\n",
       "      <td>상설시장</td>\n",
       "      <td>2329</td>\n",
       "      <td>중구 서울특별시 황학동 벼룩시장 (도깨비시장 / 만물시장)</td>\n",
       "      <td>37.557914</td>\n",
       "      <td>127.013670</td>\n",
       "    </tr>\n",
       "    <tr>\n",
       "      <th>1</th>\n",
       "      <td>국어권</td>\n",
       "      <td>종로구</td>\n",
       "      <td>서울특별시</td>\n",
       "      <td>동대문종합시장 한복상가</td>\n",
       "      <td>종로구 서울특별시 동대문종합시장 한복상가</td>\n",
       "      <td>https://korean.visitkorea.or.kr/detail/ms_deta...</td>\n",
       "      <td>쇼핑</td>\n",
       "      <td>쇼핑</td>\n",
       "      <td>상설시장</td>\n",
       "      <td>1373</td>\n",
       "      <td>종로구 서울특별시 동대문종합시장 한복상가</td>\n",
       "      <td>37.559984</td>\n",
       "      <td>126.975307</td>\n",
       "    </tr>\n",
       "    <tr>\n",
       "      <th>2</th>\n",
       "      <td>국어권</td>\n",
       "      <td>종로구</td>\n",
       "      <td>서울특별시</td>\n",
       "      <td>광장시장</td>\n",
       "      <td>종로구 서울특별시 광장시장</td>\n",
       "      <td>https://korean.visitkorea.or.kr/detail/ms_deta...</td>\n",
       "      <td>쇼핑</td>\n",
       "      <td>쇼핑</td>\n",
       "      <td>상설시장</td>\n",
       "      <td>1370</td>\n",
       "      <td>종로구 서울특별시 광장시장</td>\n",
       "      <td>37.518727</td>\n",
       "      <td>126.921896</td>\n",
       "    </tr>\n",
       "  </tbody>\n",
       "</table>\n",
       "</div>"
      ],
      "text/plain": [
       "   언어명 시군구명    시도명                     관광지명  \\\n",
       "0  국어권   중구  서울특별시  황학동 벼룩시장 (도깨비시장 / 만물시장)   \n",
       "1  국어권  종로구  서울특별시             동대문종합시장 한복상가   \n",
       "2  국어권  종로구  서울특별시                     광장시장   \n",
       "\n",
       "                                  주소  \\\n",
       "0  중구 서울특별시 황학동 벼룩시장 (도깨비시장 / 만물시장)    \n",
       "1            종로구 서울특별시 동대문종합시장 한복상가    \n",
       "2                    종로구 서울특별시 광장시장    \n",
       "\n",
       "                                                웹사이트 KTO카테고리대분류명 KTO카테고리중분류명  \\\n",
       "0  https://korean.visitkorea.or.kr/detail/ms_deta...          쇼핑          쇼핑   \n",
       "1  https://korean.visitkorea.or.kr/detail/ms_deta...          쇼핑          쇼핑   \n",
       "2  https://korean.visitkorea.or.kr/detail/ms_deta...          쇼핑          쇼핑   \n",
       "\n",
       "  KTO카테고리소분류명  방문자수                            주소(도로명)   Latitude   Longitude  \n",
       "0        상설시장  2329  중구 서울특별시 황학동 벼룩시장 (도깨비시장 / 만물시장)   37.557914  127.013670  \n",
       "1        상설시장  1373            종로구 서울특별시 동대문종합시장 한복상가   37.559984  126.975307  \n",
       "2        상설시장  1370                    종로구 서울특별시 광장시장   37.518727  126.921896  "
      ]
     },
     "execution_count": 48,
     "metadata": {},
     "output_type": "execute_result"
    }
   ],
   "source": [
    "pop_lofor_market = find_market_in_data(final_pop_lofor,'관광지명')\n",
    "pop_lofor_market = pop_lofor_market.reset_index(drop=True)\n",
    "print(len(pop_lofor_market))\n",
    "pop_lofor_market.head(3)"
   ]
  },
  {
   "cell_type": "code",
   "execution_count": null,
   "id": "c3497899",
   "metadata": {},
   "outputs": [],
   "source": []
  },
  {
   "cell_type": "code",
   "execution_count": 49,
   "id": "8462cea2",
   "metadata": {
    "ExecuteTime": {
     "end_time": "2023-07-15T07:59:02.477504Z",
     "start_time": "2023-07-15T07:59:02.422512Z"
    }
   },
   "outputs": [
    {
     "name": "stdout",
     "output_type": "stream",
     "text": [
      "1314\n",
      "5\n",
      "1309\n"
     ]
    }
   ],
   "source": [
    "centre = []\n",
    "\n",
    "for i in code_market_count['시장(상점가명)']:\n",
    "    if i in list(pop_lofor_market['관광지명']):\n",
    "        centre.append(1)\n",
    "    else:\n",
    "        centre.append(0)\n",
    "        \n",
    "print(len(centre))\n",
    "print(centre.count(1))\n",
    "print(centre.count(0))"
   ]
  },
  {
   "cell_type": "code",
   "execution_count": 50,
   "id": "a06afb35",
   "metadata": {
    "ExecuteTime": {
     "end_time": "2023-07-15T07:59:02.750275Z",
     "start_time": "2023-07-15T07:59:02.720081Z"
    }
   },
   "outputs": [],
   "source": [
    "def caculate_distance_w_market(standard_data, data, standard_datacolumns, datacolumns, radius):\n",
    "    from geopy.distance import geodesic\n",
    "    try :\n",
    "        df_list = []\n",
    "\n",
    "        for i in range(len(standard_data)):\n",
    "            current_location = (standard_data['Latitude'][i], standard_data['Longitude'][i])\n",
    "            \n",
    "            for j in range(len(data)):\n",
    "                location = (data['Latitude'][j], data['Longitude'][j])\n",
    "                distance = geodesic(current_location, location).meters\n",
    "\n",
    "                if distance <= radius:\n",
    "                    df_list.append([\n",
    "                        standard_data[standard_datacolumns][i],\n",
    "                        standard_data['Latitude'][i],\n",
    "                        standard_data['Longitude'][i],\n",
    "                        data[datacolumns][j],\n",
    "                        data['Latitude'][j],\n",
    "                        data['Longitude'][j]\n",
    "                    ])\n",
    "    except :\n",
    "        print('pass')\n",
    "        pass\n",
    "    \n",
    "    try:\n",
    "        df = pd.DataFrame(df_list)\n",
    "        df.columns = ['시장(상점가명)','Latitude','Longitude','관광지명','위도(관광지)','경도(관광지)']\n",
    "        df = df.drop_duplicates(['시장(상점가명)','관광지명'], keep = 'first')\n",
    "        \n",
    "    except :\n",
    "        pass\n",
    "\n",
    "    return df"
   ]
  },
  {
   "cell_type": "code",
   "execution_count": 51,
   "id": "15b730ac",
   "metadata": {
    "ExecuteTime": {
     "end_time": "2023-07-15T07:59:07.209963Z",
     "start_time": "2023-07-15T07:59:03.023682Z"
    }
   },
   "outputs": [
    {
     "data": {
      "text/html": [
       "<div>\n",
       "<style scoped>\n",
       "    .dataframe tbody tr th:only-of-type {\n",
       "        vertical-align: middle;\n",
       "    }\n",
       "\n",
       "    .dataframe tbody tr th {\n",
       "        vertical-align: top;\n",
       "    }\n",
       "\n",
       "    .dataframe thead th {\n",
       "        text-align: right;\n",
       "    }\n",
       "</style>\n",
       "<table border=\"1\" class=\"dataframe\">\n",
       "  <thead>\n",
       "    <tr style=\"text-align: right;\">\n",
       "      <th></th>\n",
       "      <th>시장(상점가명)</th>\n",
       "      <th>Latitude</th>\n",
       "      <th>Longitude</th>\n",
       "      <th>관광지명</th>\n",
       "      <th>위도(관광지)</th>\n",
       "      <th>경도(관광지)</th>\n",
       "    </tr>\n",
       "  </thead>\n",
       "  <tbody>\n",
       "    <tr>\n",
       "      <th>4</th>\n",
       "      <td>망원시장</td>\n",
       "      <td>37.528430</td>\n",
       "      <td>126.933078</td>\n",
       "      <td>Busan Haeundae Traditional Market (부산 해운대전통시장)</td>\n",
       "      <td>37.528430</td>\n",
       "      <td>126.933078</td>\n",
       "    </tr>\n",
       "    <tr>\n",
       "      <th>56</th>\n",
       "      <td>Busan Haeundae Traditional Market (부산 해운대전통시장)</td>\n",
       "      <td>37.528430</td>\n",
       "      <td>126.933078</td>\n",
       "      <td>망원시장</td>\n",
       "      <td>37.528430</td>\n",
       "      <td>126.933078</td>\n",
       "    </tr>\n",
       "    <tr>\n",
       "      <th>69</th>\n",
       "      <td>釜山海云台市?부산 해운대시장</td>\n",
       "      <td>35.155320</td>\n",
       "      <td>129.145930</td>\n",
       "      <td>大邱和平市場??街 (대구 평화시장 닭똥집 골목)</td>\n",
       "      <td>35.155320</td>\n",
       "      <td>129.145930</td>\n",
       "    </tr>\n",
       "    <tr>\n",
       "      <th>80</th>\n",
       "      <td>大邱和平市場??街 (대구 평화시장 닭똥집 골목)</td>\n",
       "      <td>35.155320</td>\n",
       "      <td>129.145930</td>\n",
       "      <td>釜山海云台市?부산 해운대시장</td>\n",
       "      <td>35.155320</td>\n",
       "      <td>129.145930</td>\n",
       "    </tr>\n",
       "    <tr>\n",
       "      <th>85</th>\n",
       "      <td>蘇?浦?合魚市場（소래포구 종합어시장）</td>\n",
       "      <td>35.871787</td>\n",
       "      <td>128.591169</td>\n",
       "      <td>新浦??市?신포국제시장</td>\n",
       "      <td>35.871787</td>\n",
       "      <td>128.591169</td>\n",
       "    </tr>\n",
       "    <tr>\n",
       "      <th>87</th>\n",
       "      <td>新浦??市?신포국제시장</td>\n",
       "      <td>35.871787</td>\n",
       "      <td>128.591169</td>\n",
       "      <td>蘇?浦?合魚市場（소래포구 종합어시장）</td>\n",
       "      <td>35.871787</td>\n",
       "      <td>128.591169</td>\n",
       "    </tr>\n",
       "    <tr>\n",
       "      <th>95</th>\n",
       "      <td>大田中央市場（대전 중앙시장）</td>\n",
       "      <td>37.476052</td>\n",
       "      <td>126.468502</td>\n",
       "      <td>大田中央市?(대전 중앙시장)</td>\n",
       "      <td>37.476052</td>\n",
       "      <td>126.468502</td>\n",
       "    </tr>\n",
       "    <tr>\n",
       "      <th>96</th>\n",
       "      <td>大田中央市?(대전 중앙시장)</td>\n",
       "      <td>37.476052</td>\n",
       "      <td>126.468502</td>\n",
       "      <td>大田中央市場（대전 중앙시장）</td>\n",
       "      <td>37.476052</td>\n",
       "      <td>126.468502</td>\n",
       "    </tr>\n",
       "  </tbody>\n",
       "</table>\n",
       "</div>"
      ],
      "text/plain": [
       "                                          시장(상점가명)   Latitude   Longitude  \\\n",
       "4                                             망원시장  37.528430  126.933078   \n",
       "56  Busan Haeundae Traditional Market (부산 해운대전통시장)  37.528430  126.933078   \n",
       "69                                 釜山海云台市?부산 해운대시장  35.155320  129.145930   \n",
       "80                      大邱和平市場??街 (대구 평화시장 닭똥집 골목)  35.155320  129.145930   \n",
       "85                            蘇?浦?合魚市場（소래포구 종합어시장）  35.871787  128.591169   \n",
       "87                                    新浦??市?신포국제시장  35.871787  128.591169   \n",
       "95                                 大田中央市場（대전 중앙시장）  37.476052  126.468502   \n",
       "96                                 大田中央市?(대전 중앙시장)  37.476052  126.468502   \n",
       "\n",
       "                                              관광지명    위도(관광지)     경도(관광지)  \n",
       "4   Busan Haeundae Traditional Market (부산 해운대전통시장)  37.528430  126.933078  \n",
       "56                                            망원시장  37.528430  126.933078  \n",
       "69                      大邱和平市場??街 (대구 평화시장 닭똥집 골목)  35.155320  129.145930  \n",
       "80                                 釜山海云台市?부산 해운대시장  35.155320  129.145930  \n",
       "85                                    新浦??市?신포국제시장  35.871787  128.591169  \n",
       "87                            蘇?浦?合魚市場（소래포구 종합어시장）  35.871787  128.591169  \n",
       "95                                 大田中央市?(대전 중앙시장)  37.476052  126.468502  \n",
       "96                                 大田中央市場（대전 중앙시장）  37.476052  126.468502  "
      ]
     },
     "execution_count": 51,
     "metadata": {},
     "output_type": "execute_result"
    }
   ],
   "source": [
    "a = caculate_distance_w_market(pop_lofor_market, pop_lofor_market, '관광지명', '관광지명', 100)\n",
    "a = a[a['시장(상점가명)'] != a['관광지명']]\n",
    "a\n",
    "#믿을게 아니다..."
   ]
  },
  {
   "cell_type": "code",
   "execution_count": null,
   "id": "dd2ba21f",
   "metadata": {
    "ExecuteTime": {
     "end_time": "2023-07-15T07:28:54.731382Z",
     "start_time": "2023-07-15T07:28:54.701782Z"
    }
   },
   "outputs": [],
   "source": []
  },
  {
   "cell_type": "code",
   "execution_count": null,
   "id": "04713ae4",
   "metadata": {},
   "outputs": [],
   "source": []
  },
  {
   "cell_type": "code",
   "execution_count": 52,
   "id": "c5bcae50",
   "metadata": {
    "ExecuteTime": {
     "end_time": "2023-07-15T07:59:07.256601Z",
     "start_time": "2023-07-15T07:59:07.213036Z"
    }
   },
   "outputs": [
    {
     "data": {
      "text/html": [
       "<div>\n",
       "<style scoped>\n",
       "    .dataframe tbody tr th:only-of-type {\n",
       "        vertical-align: middle;\n",
       "    }\n",
       "\n",
       "    .dataframe tbody tr th {\n",
       "        vertical-align: top;\n",
       "    }\n",
       "\n",
       "    .dataframe thead th {\n",
       "        text-align: right;\n",
       "    }\n",
       "</style>\n",
       "<table border=\"1\" class=\"dataframe\">\n",
       "  <thead>\n",
       "    <tr style=\"text-align: right;\">\n",
       "      <th></th>\n",
       "      <th>언어명</th>\n",
       "      <th>시군구명</th>\n",
       "      <th>시도명</th>\n",
       "      <th>관광지명</th>\n",
       "      <th>주소</th>\n",
       "      <th>웹사이트</th>\n",
       "      <th>KTO카테고리대분류명</th>\n",
       "      <th>KTO카테고리중분류명</th>\n",
       "      <th>KTO카테고리소분류명</th>\n",
       "      <th>방문자수</th>\n",
       "      <th>주소(도로명)</th>\n",
       "      <th>Latitude</th>\n",
       "      <th>Longitude</th>\n",
       "    </tr>\n",
       "  </thead>\n",
       "  <tbody>\n",
       "    <tr>\n",
       "      <th>0</th>\n",
       "      <td>국어권</td>\n",
       "      <td>중구</td>\n",
       "      <td>서울특별시</td>\n",
       "      <td>황학동 벼룩시장 (도깨비시장 / 만물시장)</td>\n",
       "      <td>중구 서울특별시 황학동 벼룩시장 (도깨비시장 / 만물시장)</td>\n",
       "      <td>https://korean.visitkorea.or.kr/detail/ms_deta...</td>\n",
       "      <td>쇼핑</td>\n",
       "      <td>쇼핑</td>\n",
       "      <td>상설시장</td>\n",
       "      <td>2329</td>\n",
       "      <td>중구 서울특별시 황학동 벼룩시장 (도깨비시장 / 만물시장)</td>\n",
       "      <td>37.557914</td>\n",
       "      <td>127.013670</td>\n",
       "    </tr>\n",
       "    <tr>\n",
       "      <th>1</th>\n",
       "      <td>국어권</td>\n",
       "      <td>종로구</td>\n",
       "      <td>서울특별시</td>\n",
       "      <td>동대문종합시장 한복상가</td>\n",
       "      <td>종로구 서울특별시 동대문종합시장 한복상가</td>\n",
       "      <td>https://korean.visitkorea.or.kr/detail/ms_deta...</td>\n",
       "      <td>쇼핑</td>\n",
       "      <td>쇼핑</td>\n",
       "      <td>상설시장</td>\n",
       "      <td>1373</td>\n",
       "      <td>종로구 서울특별시 동대문종합시장 한복상가</td>\n",
       "      <td>37.559984</td>\n",
       "      <td>126.975307</td>\n",
       "    </tr>\n",
       "    <tr>\n",
       "      <th>2</th>\n",
       "      <td>국어권</td>\n",
       "      <td>종로구</td>\n",
       "      <td>서울특별시</td>\n",
       "      <td>광장시장</td>\n",
       "      <td>종로구 서울특별시 광장시장</td>\n",
       "      <td>https://korean.visitkorea.or.kr/detail/ms_deta...</td>\n",
       "      <td>쇼핑</td>\n",
       "      <td>쇼핑</td>\n",
       "      <td>상설시장</td>\n",
       "      <td>1370</td>\n",
       "      <td>종로구 서울특별시 광장시장</td>\n",
       "      <td>37.518727</td>\n",
       "      <td>126.921896</td>\n",
       "    </tr>\n",
       "    <tr>\n",
       "      <th>3</th>\n",
       "      <td>국어권</td>\n",
       "      <td>마포구</td>\n",
       "      <td>서울특별시</td>\n",
       "      <td>망원시장</td>\n",
       "      <td>마포구 서울특별시 망원시장</td>\n",
       "      <td>https://korean.visitkorea.or.kr/detail/ms_deta...</td>\n",
       "      <td>쇼핑</td>\n",
       "      <td>쇼핑</td>\n",
       "      <td>상설시장</td>\n",
       "      <td>1368</td>\n",
       "      <td>마포구 서울특별시 망원시장</td>\n",
       "      <td>37.528430</td>\n",
       "      <td>126.933078</td>\n",
       "    </tr>\n",
       "    <tr>\n",
       "      <th>4</th>\n",
       "      <td>국어권</td>\n",
       "      <td>중구</td>\n",
       "      <td>부산광역시</td>\n",
       "      <td>부산 자갈치시장</td>\n",
       "      <td>중구 부산광역시 부산 자갈치시장</td>\n",
       "      <td>https://korean.visitkorea.or.kr/detail/ms_deta...</td>\n",
       "      <td>쇼핑</td>\n",
       "      <td>쇼핑</td>\n",
       "      <td>상설시장</td>\n",
       "      <td>4564</td>\n",
       "      <td>중구 부산광역시 부산 자갈치시장</td>\n",
       "      <td>35.171448</td>\n",
       "      <td>129.197079</td>\n",
       "    </tr>\n",
       "    <tr>\n",
       "      <th>...</th>\n",
       "      <td>...</td>\n",
       "      <td>...</td>\n",
       "      <td>...</td>\n",
       "      <td>...</td>\n",
       "      <td>...</td>\n",
       "      <td>...</td>\n",
       "      <td>...</td>\n",
       "      <td>...</td>\n",
       "      <td>...</td>\n",
       "      <td>...</td>\n",
       "      <td>...</td>\n",
       "      <td>...</td>\n",
       "      <td>...</td>\n",
       "    </tr>\n",
       "    <tr>\n",
       "      <th>112</th>\n",
       "      <td>영어권</td>\n",
       "      <td>서귀포시</td>\n",
       "      <td>제주특별자치도</td>\n",
       "      <td>Seogwipo Maeil Olle Market (서귀포매일 올레시장)</td>\n",
       "      <td>서귀포시 제주특별자치도 Seogwipo Maeil Olle Market (서귀포매일...</td>\n",
       "      <td>https://english.visitkorea.or.kr/enu/ATR/SI_EN...</td>\n",
       "      <td>쇼핑</td>\n",
       "      <td>쇼핑</td>\n",
       "      <td>상설시장</td>\n",
       "      <td>187</td>\n",
       "      <td>서귀포시 제주특별자치도 Seogwipo Maeil Olle Market (서귀포매일...</td>\n",
       "      <td>34.928823</td>\n",
       "      <td>127.498088</td>\n",
       "    </tr>\n",
       "    <tr>\n",
       "      <th>113</th>\n",
       "      <td>일본어</td>\n",
       "      <td>제주시</td>\n",
       "      <td>제주특별자치도</td>\n",
       "      <td>東門在?市場（동문재래시장）</td>\n",
       "      <td>제주시 제주특별자치도 東門在?市場（동문재래시장）</td>\n",
       "      <td>https://japanese.visitkorea.or.kr/jpn/TMC/TE_J...</td>\n",
       "      <td>쇼핑</td>\n",
       "      <td>쇼핑</td>\n",
       "      <td>상설시장</td>\n",
       "      <td>121</td>\n",
       "      <td>제주시 제주특별자치도 東門在?市場（동문재래시장）</td>\n",
       "      <td>34.772480</td>\n",
       "      <td>127.746751</td>\n",
       "    </tr>\n",
       "    <tr>\n",
       "      <th>114</th>\n",
       "      <td>일본어</td>\n",
       "      <td>서귀포시</td>\n",
       "      <td>제주특별자치도</td>\n",
       "      <td>西?浦?日オルレ市場（서귀포매일올레시장）</td>\n",
       "      <td>서귀포시 제주특별자치도 西?浦?日オルレ市場（서귀포매일올레시장）</td>\n",
       "      <td>https://japanese.visitkorea.or.kr/jpn/TMC/TE_J...</td>\n",
       "      <td>쇼핑</td>\n",
       "      <td>쇼핑</td>\n",
       "      <td>상설시장</td>\n",
       "      <td>51</td>\n",
       "      <td>서귀포시 제주특별자치도 西?浦?日オルレ市場（서귀포매일올레시장）</td>\n",
       "      <td>35.276286</td>\n",
       "      <td>126.149936</td>\n",
       "    </tr>\n",
       "    <tr>\n",
       "      <th>115</th>\n",
       "      <td>중간체</td>\n",
       "      <td>제주시</td>\n",
       "      <td>제주특별자치도</td>\n",
       "      <td>????市?(동문재래시장)</td>\n",
       "      <td>제주시 제주특별자치도 ????市?(동문재래시장)</td>\n",
       "      <td>https://chinese.visitkorea.or.kr/chs/ATR/SI_CH...</td>\n",
       "      <td>쇼핑</td>\n",
       "      <td>쇼핑</td>\n",
       "      <td>상설시장</td>\n",
       "      <td>42</td>\n",
       "      <td>제주시 제주특별자치도 ????市?(동문재래시장)</td>\n",
       "      <td>34.760374</td>\n",
       "      <td>127.662222</td>\n",
       "    </tr>\n",
       "    <tr>\n",
       "      <th>116</th>\n",
       "      <td>중간체</td>\n",
       "      <td>서귀포시</td>\n",
       "      <td>제주특별자치도</td>\n",
       "      <td>西?浦每日偶?市? 서귀포매일올레시장</td>\n",
       "      <td>서귀포시 제주특별자치도 西?浦每日偶?市? 서귀포매일올레시장</td>\n",
       "      <td>https://chinese.visitkorea.or.kr/chs/ATR/SI_CH...</td>\n",
       "      <td>쇼핑</td>\n",
       "      <td>쇼핑</td>\n",
       "      <td>상설시장</td>\n",
       "      <td>37</td>\n",
       "      <td>서귀포시 제주특별자치도 西?浦每日偶?市? 서귀포매일올레시장</td>\n",
       "      <td>35.107222</td>\n",
       "      <td>127.621944</td>\n",
       "    </tr>\n",
       "  </tbody>\n",
       "</table>\n",
       "<p>117 rows × 13 columns</p>\n",
       "</div>"
      ],
      "text/plain": [
       "     언어명  시군구명      시도명                                     관광지명  \\\n",
       "0    국어권    중구    서울특별시                  황학동 벼룩시장 (도깨비시장 / 만물시장)   \n",
       "1    국어권   종로구    서울특별시                             동대문종합시장 한복상가   \n",
       "2    국어권   종로구    서울특별시                                     광장시장   \n",
       "3    국어권   마포구    서울특별시                                     망원시장   \n",
       "4    국어권    중구    부산광역시                                 부산 자갈치시장   \n",
       "..   ...   ...      ...                                      ...   \n",
       "112  영어권  서귀포시  제주특별자치도  Seogwipo Maeil Olle Market (서귀포매일 올레시장)   \n",
       "113  일본어   제주시  제주특별자치도                           東門在?市場（동문재래시장）   \n",
       "114  일본어  서귀포시  제주특별자치도                    西?浦?日オルレ市場（서귀포매일올레시장）   \n",
       "115  중간체   제주시  제주특별자치도                           ????市?(동문재래시장)   \n",
       "116  중간체  서귀포시  제주특별자치도                      西?浦每日偶?市? 서귀포매일올레시장   \n",
       "\n",
       "                                                    주소  \\\n",
       "0                    중구 서울특별시 황학동 벼룩시장 (도깨비시장 / 만물시장)    \n",
       "1                              종로구 서울특별시 동대문종합시장 한복상가    \n",
       "2                                      종로구 서울특별시 광장시장    \n",
       "3                                      마포구 서울특별시 망원시장    \n",
       "4                                   중구 부산광역시 부산 자갈치시장    \n",
       "..                                                 ...   \n",
       "112  서귀포시 제주특별자치도 Seogwipo Maeil Olle Market (서귀포매일...   \n",
       "113                        제주시 제주특별자치도 東門在?市場（동문재래시장）    \n",
       "114                서귀포시 제주특별자치도 西?浦?日オルレ市場（서귀포매일올레시장）    \n",
       "115                        제주시 제주특별자치도 ????市?(동문재래시장)    \n",
       "116                  서귀포시 제주특별자치도 西?浦每日偶?市? 서귀포매일올레시장    \n",
       "\n",
       "                                                  웹사이트 KTO카테고리대분류명  \\\n",
       "0    https://korean.visitkorea.or.kr/detail/ms_deta...          쇼핑   \n",
       "1    https://korean.visitkorea.or.kr/detail/ms_deta...          쇼핑   \n",
       "2    https://korean.visitkorea.or.kr/detail/ms_deta...          쇼핑   \n",
       "3    https://korean.visitkorea.or.kr/detail/ms_deta...          쇼핑   \n",
       "4    https://korean.visitkorea.or.kr/detail/ms_deta...          쇼핑   \n",
       "..                                                 ...         ...   \n",
       "112  https://english.visitkorea.or.kr/enu/ATR/SI_EN...          쇼핑   \n",
       "113  https://japanese.visitkorea.or.kr/jpn/TMC/TE_J...          쇼핑   \n",
       "114  https://japanese.visitkorea.or.kr/jpn/TMC/TE_J...          쇼핑   \n",
       "115  https://chinese.visitkorea.or.kr/chs/ATR/SI_CH...          쇼핑   \n",
       "116  https://chinese.visitkorea.or.kr/chs/ATR/SI_CH...          쇼핑   \n",
       "\n",
       "    KTO카테고리중분류명 KTO카테고리소분류명  방문자수  \\\n",
       "0            쇼핑        상설시장  2329   \n",
       "1            쇼핑        상설시장  1373   \n",
       "2            쇼핑        상설시장  1370   \n",
       "3            쇼핑        상설시장  1368   \n",
       "4            쇼핑        상설시장  4564   \n",
       "..          ...         ...   ...   \n",
       "112          쇼핑        상설시장   187   \n",
       "113          쇼핑        상설시장   121   \n",
       "114          쇼핑        상설시장    51   \n",
       "115          쇼핑        상설시장    42   \n",
       "116          쇼핑        상설시장    37   \n",
       "\n",
       "                                               주소(도로명)   Latitude   Longitude  \n",
       "0                    중구 서울특별시 황학동 벼룩시장 (도깨비시장 / 만물시장)   37.557914  127.013670  \n",
       "1                              종로구 서울특별시 동대문종합시장 한복상가   37.559984  126.975307  \n",
       "2                                      종로구 서울특별시 광장시장   37.518727  126.921896  \n",
       "3                                      마포구 서울특별시 망원시장   37.528430  126.933078  \n",
       "4                                   중구 부산광역시 부산 자갈치시장   35.171448  129.197079  \n",
       "..                                                 ...        ...         ...  \n",
       "112  서귀포시 제주특별자치도 Seogwipo Maeil Olle Market (서귀포매일...  34.928823  127.498088  \n",
       "113                        제주시 제주특별자치도 東門在?市場（동문재래시장）   34.772480  127.746751  \n",
       "114                서귀포시 제주특별자치도 西?浦?日オルレ市場（서귀포매일올레시장）   35.276286  126.149936  \n",
       "115                        제주시 제주특별자치도 ????市?(동문재래시장)   34.760374  127.662222  \n",
       "116                  서귀포시 제주특별자치도 西?浦每日偶?市? 서귀포매일올레시장   35.107222  127.621944  \n",
       "\n",
       "[117 rows x 13 columns]"
      ]
     },
     "execution_count": 52,
     "metadata": {},
     "output_type": "execute_result"
    }
   ],
   "source": [
    "pop_lofor_market.drop_duplicates('관광지명',keep='first')"
   ]
  },
  {
   "cell_type": "code",
   "execution_count": 53,
   "id": "a0804a3f",
   "metadata": {
    "ExecuteTime": {
     "end_time": "2023-07-15T07:59:07.272004Z",
     "start_time": "2023-07-15T07:59:07.258603Z"
    }
   },
   "outputs": [
    {
     "data": {
      "text/plain": [
       "0                      황학동 벼룩시장 (도깨비시장 / 만물시장)\n",
       "1                                 동대문종합시장 한복상가\n",
       "2                                         광장시장\n",
       "3                                         망원시장\n",
       "4                                     부산 자갈치시장\n",
       "                        ...                   \n",
       "112    Seogwipo Maeil Olle Market (서귀포매일 올레시장)\n",
       "113                             東門在?市場（동문재래시장）\n",
       "114                      西?浦?日オルレ市場（서귀포매일올레시장）\n",
       "115                             ????市?(동문재래시장)\n",
       "116                        西?浦每日偶?市? 서귀포매일올레시장\n",
       "Name: 관광지명, Length: 117, dtype: object"
      ]
     },
     "execution_count": 53,
     "metadata": {},
     "output_type": "execute_result"
    }
   ],
   "source": [
    "pop_lofor_market['관광지명']"
   ]
  },
  {
   "cell_type": "code",
   "execution_count": 54,
   "id": "11a9b8e5",
   "metadata": {
    "ExecuteTime": {
     "end_time": "2023-07-15T07:59:07.287044Z",
     "start_time": "2023-07-15T07:59:07.276474Z"
    }
   },
   "outputs": [
    {
     "name": "stdout",
     "output_type": "stream",
     "text": [
      "1314\n",
      "1314\n"
     ]
    }
   ],
   "source": [
    "df_centre = pd.DataFrame(centre)\n",
    "print(len(df_centre))\n",
    "print(len(code_market_count))"
   ]
  },
  {
   "cell_type": "code",
   "execution_count": 55,
   "id": "7bbb6740",
   "metadata": {
    "ExecuteTime": {
     "end_time": "2023-07-15T07:59:07.317695Z",
     "start_time": "2023-07-15T07:59:07.293044Z"
    }
   },
   "outputs": [
    {
     "data": {
      "text/html": [
       "<div>\n",
       "<style scoped>\n",
       "    .dataframe tbody tr th:only-of-type {\n",
       "        vertical-align: middle;\n",
       "    }\n",
       "\n",
       "    .dataframe tbody tr th {\n",
       "        vertical-align: top;\n",
       "    }\n",
       "\n",
       "    .dataframe thead th {\n",
       "        text-align: right;\n",
       "    }\n",
       "</style>\n",
       "<table border=\"1\" class=\"dataframe\">\n",
       "  <thead>\n",
       "    <tr style=\"text-align: right;\">\n",
       "      <th></th>\n",
       "      <th>시장(상점가명)</th>\n",
       "      <th>market_pop_lofor_yn</th>\n",
       "    </tr>\n",
       "  </thead>\n",
       "  <tbody>\n",
       "    <tr>\n",
       "      <th>0</th>\n",
       "      <td>(유)문경시중앙시장</td>\n",
       "      <td>0</td>\n",
       "    </tr>\n",
       "    <tr>\n",
       "      <th>1</th>\n",
       "      <td>(주)서시장</td>\n",
       "      <td>0</td>\n",
       "    </tr>\n",
       "    <tr>\n",
       "      <th>2</th>\n",
       "      <td>(주)신정시장</td>\n",
       "      <td>0</td>\n",
       "    </tr>\n",
       "    <tr>\n",
       "      <th>3</th>\n",
       "      <td>(주)야음시장</td>\n",
       "      <td>0</td>\n",
       "    </tr>\n",
       "    <tr>\n",
       "      <th>4</th>\n",
       "      <td>(주)여수수산시장</td>\n",
       "      <td>0</td>\n",
       "    </tr>\n",
       "    <tr>\n",
       "      <th>...</th>\n",
       "      <td>...</td>\n",
       "      <td>...</td>\n",
       "    </tr>\n",
       "    <tr>\n",
       "      <th>1309</th>\n",
       "      <td>후생시장</td>\n",
       "      <td>0</td>\n",
       "    </tr>\n",
       "    <tr>\n",
       "      <th>1310</th>\n",
       "      <td>후암시장</td>\n",
       "      <td>0</td>\n",
       "    </tr>\n",
       "    <tr>\n",
       "      <th>1311</th>\n",
       "      <td>후포시장</td>\n",
       "      <td>0</td>\n",
       "    </tr>\n",
       "    <tr>\n",
       "      <th>1312</th>\n",
       "      <td>흥덕전통시장</td>\n",
       "      <td>0</td>\n",
       "    </tr>\n",
       "    <tr>\n",
       "      <th>1313</th>\n",
       "      <td>흥해시장</td>\n",
       "      <td>0</td>\n",
       "    </tr>\n",
       "  </tbody>\n",
       "</table>\n",
       "<p>1314 rows × 2 columns</p>\n",
       "</div>"
      ],
      "text/plain": [
       "        시장(상점가명)  market_pop_lofor_yn\n",
       "0     (유)문경시중앙시장                    0\n",
       "1         (주)서시장                    0\n",
       "2        (주)신정시장                    0\n",
       "3        (주)야음시장                    0\n",
       "4      (주)여수수산시장                    0\n",
       "...          ...                  ...\n",
       "1309        후생시장                    0\n",
       "1310        후암시장                    0\n",
       "1311        후포시장                    0\n",
       "1312      흥덕전통시장                    0\n",
       "1313        흥해시장                    0\n",
       "\n",
       "[1314 rows x 2 columns]"
      ]
     },
     "execution_count": 55,
     "metadata": {},
     "output_type": "execute_result"
    }
   ],
   "source": [
    "pop_lofor_market_yn = pd.concat([code_market_count['시장(상점가명)'], df_centre],axis=1)\n",
    "pop_lofor_market_yn.columns = ['시장(상점가명)','market_pop_lofor_yn']\n",
    "pop_lofor_market_yn"
   ]
  },
  {
   "cell_type": "code",
   "execution_count": 58,
   "id": "635909e8",
   "metadata": {
    "ExecuteTime": {
     "end_time": "2023-07-15T07:59:19.882537Z",
     "start_time": "2023-07-15T07:59:19.858534Z"
    }
   },
   "outputs": [
    {
     "data": {
      "text/html": [
       "<div>\n",
       "<style scoped>\n",
       "    .dataframe tbody tr th:only-of-type {\n",
       "        vertical-align: middle;\n",
       "    }\n",
       "\n",
       "    .dataframe tbody tr th {\n",
       "        vertical-align: top;\n",
       "    }\n",
       "\n",
       "    .dataframe thead th {\n",
       "        text-align: right;\n",
       "    }\n",
       "</style>\n",
       "<table border=\"1\" class=\"dataframe\">\n",
       "  <thead>\n",
       "    <tr style=\"text-align: right;\">\n",
       "      <th></th>\n",
       "      <th>시장(상점가명)</th>\n",
       "    </tr>\n",
       "    <tr>\n",
       "      <th>market_pop_lofor_yn</th>\n",
       "      <th></th>\n",
       "    </tr>\n",
       "  </thead>\n",
       "  <tbody>\n",
       "    <tr>\n",
       "      <th>0</th>\n",
       "      <td>1309</td>\n",
       "    </tr>\n",
       "    <tr>\n",
       "      <th>1</th>\n",
       "      <td>5</td>\n",
       "    </tr>\n",
       "  </tbody>\n",
       "</table>\n",
       "</div>"
      ],
      "text/plain": [
       "                     시장(상점가명)\n",
       "market_pop_lofor_yn          \n",
       "0                        1309\n",
       "1                           5"
      ]
     },
     "execution_count": 58,
     "metadata": {},
     "output_type": "execute_result"
    }
   ],
   "source": [
    "pop_lofor_market_yn.groupby(['market_pop_lofor_yn']).count()"
   ]
  },
  {
   "cell_type": "code",
   "execution_count": null,
   "id": "3f1aa1f3",
   "metadata": {},
   "outputs": [],
   "source": []
  },
  {
   "cell_type": "code",
   "execution_count": null,
   "id": "839e677f",
   "metadata": {},
   "outputs": [],
   "source": []
  },
  {
   "cell_type": "code",
   "execution_count": 64,
   "id": "5122d12b",
   "metadata": {
    "ExecuteTime": {
     "end_time": "2023-07-15T08:01:05.512635Z",
     "start_time": "2023-07-15T08:01:05.494631Z"
    }
   },
   "outputs": [
    {
     "data": {
      "text/html": [
       "<div>\n",
       "<style scoped>\n",
       "    .dataframe tbody tr th:only-of-type {\n",
       "        vertical-align: middle;\n",
       "    }\n",
       "\n",
       "    .dataframe tbody tr th {\n",
       "        vertical-align: top;\n",
       "    }\n",
       "\n",
       "    .dataframe thead th {\n",
       "        text-align: right;\n",
       "    }\n",
       "</style>\n",
       "<table border=\"1\" class=\"dataframe\">\n",
       "  <thead>\n",
       "    <tr style=\"text-align: right;\">\n",
       "      <th></th>\n",
       "      <th>시장(상점가명)</th>\n",
       "      <th>centry_yn</th>\n",
       "      <th>시장(상점가명)</th>\n",
       "      <th>market_pop_yn</th>\n",
       "      <th>시장(상점가명)</th>\n",
       "      <th>market_pop_lofor_yn</th>\n",
       "    </tr>\n",
       "  </thead>\n",
       "  <tbody>\n",
       "    <tr>\n",
       "      <th>0</th>\n",
       "      <td>(유)문경시중앙시장</td>\n",
       "      <td>0</td>\n",
       "      <td>(유)문경시중앙시장</td>\n",
       "      <td>0</td>\n",
       "      <td>(유)문경시중앙시장</td>\n",
       "      <td>0</td>\n",
       "    </tr>\n",
       "    <tr>\n",
       "      <th>1</th>\n",
       "      <td>(주)서시장</td>\n",
       "      <td>0</td>\n",
       "      <td>(주)서시장</td>\n",
       "      <td>0</td>\n",
       "      <td>(주)서시장</td>\n",
       "      <td>0</td>\n",
       "    </tr>\n",
       "    <tr>\n",
       "      <th>2</th>\n",
       "      <td>(주)신정시장</td>\n",
       "      <td>0</td>\n",
       "      <td>(주)신정시장</td>\n",
       "      <td>0</td>\n",
       "      <td>(주)신정시장</td>\n",
       "      <td>0</td>\n",
       "    </tr>\n",
       "  </tbody>\n",
       "</table>\n",
       "</div>"
      ],
      "text/plain": [
       "     시장(상점가명)  centry_yn    시장(상점가명)  market_pop_yn    시장(상점가명)  \\\n",
       "0  (유)문경시중앙시장          0  (유)문경시중앙시장              0  (유)문경시중앙시장   \n",
       "1      (주)서시장          0      (주)서시장              0      (주)서시장   \n",
       "2     (주)신정시장          0     (주)신정시장              0     (주)신정시장   \n",
       "\n",
       "   market_pop_lofor_yn  \n",
       "0                    0  \n",
       "1                    0  \n",
       "2                    0  "
      ]
     },
     "execution_count": 64,
     "metadata": {},
     "output_type": "execute_result"
    }
   ],
   "source": [
    "market_yn = pd.concat([market_centre,pop_market_yn,pop_lofor_market_yn],axis=1)\n",
    "market_yn.head(3)\n",
    "#market_yn.to_csv('market_yn.csv',index=False)"
   ]
  },
  {
   "cell_type": "code",
   "execution_count": 66,
   "id": "56e395ca",
   "metadata": {
    "ExecuteTime": {
     "end_time": "2023-07-15T08:02:06.618337Z",
     "start_time": "2023-07-15T08:02:06.599033Z"
    }
   },
   "outputs": [
    {
     "data": {
      "text/html": [
       "<div>\n",
       "<style scoped>\n",
       "    .dataframe tbody tr th:only-of-type {\n",
       "        vertical-align: middle;\n",
       "    }\n",
       "\n",
       "    .dataframe tbody tr th {\n",
       "        vertical-align: top;\n",
       "    }\n",
       "\n",
       "    .dataframe thead th {\n",
       "        text-align: right;\n",
       "    }\n",
       "</style>\n",
       "<table border=\"1\" class=\"dataframe\">\n",
       "  <thead>\n",
       "    <tr style=\"text-align: right;\">\n",
       "      <th></th>\n",
       "      <th>시장(상점가명)</th>\n",
       "      <th>centry_yn</th>\n",
       "      <th>market_pop_yn</th>\n",
       "      <th>market_pop_lofor_yn</th>\n",
       "    </tr>\n",
       "  </thead>\n",
       "  <tbody>\n",
       "    <tr>\n",
       "      <th>0</th>\n",
       "      <td>(유)문경시중앙시장</td>\n",
       "      <td>0</td>\n",
       "      <td>0</td>\n",
       "      <td>0</td>\n",
       "    </tr>\n",
       "    <tr>\n",
       "      <th>1</th>\n",
       "      <td>(주)서시장</td>\n",
       "      <td>0</td>\n",
       "      <td>0</td>\n",
       "      <td>0</td>\n",
       "    </tr>\n",
       "    <tr>\n",
       "      <th>2</th>\n",
       "      <td>(주)신정시장</td>\n",
       "      <td>0</td>\n",
       "      <td>0</td>\n",
       "      <td>0</td>\n",
       "    </tr>\n",
       "    <tr>\n",
       "      <th>3</th>\n",
       "      <td>(주)야음시장</td>\n",
       "      <td>0</td>\n",
       "      <td>0</td>\n",
       "      <td>0</td>\n",
       "    </tr>\n",
       "    <tr>\n",
       "      <th>4</th>\n",
       "      <td>(주)여수수산시장</td>\n",
       "      <td>0</td>\n",
       "      <td>0</td>\n",
       "      <td>0</td>\n",
       "    </tr>\n",
       "    <tr>\n",
       "      <th>...</th>\n",
       "      <td>...</td>\n",
       "      <td>...</td>\n",
       "      <td>...</td>\n",
       "      <td>...</td>\n",
       "    </tr>\n",
       "    <tr>\n",
       "      <th>1309</th>\n",
       "      <td>후생시장</td>\n",
       "      <td>0</td>\n",
       "      <td>0</td>\n",
       "      <td>0</td>\n",
       "    </tr>\n",
       "    <tr>\n",
       "      <th>1310</th>\n",
       "      <td>후암시장</td>\n",
       "      <td>0</td>\n",
       "      <td>0</td>\n",
       "      <td>0</td>\n",
       "    </tr>\n",
       "    <tr>\n",
       "      <th>1311</th>\n",
       "      <td>후포시장</td>\n",
       "      <td>0</td>\n",
       "      <td>0</td>\n",
       "      <td>0</td>\n",
       "    </tr>\n",
       "    <tr>\n",
       "      <th>1312</th>\n",
       "      <td>흥덕전통시장</td>\n",
       "      <td>0</td>\n",
       "      <td>0</td>\n",
       "      <td>0</td>\n",
       "    </tr>\n",
       "    <tr>\n",
       "      <th>1313</th>\n",
       "      <td>흥해시장</td>\n",
       "      <td>0</td>\n",
       "      <td>0</td>\n",
       "      <td>0</td>\n",
       "    </tr>\n",
       "  </tbody>\n",
       "</table>\n",
       "<p>1314 rows × 4 columns</p>\n",
       "</div>"
      ],
      "text/plain": [
       "        시장(상점가명)  centry_yn  market_pop_yn  market_pop_lofor_yn\n",
       "0     (유)문경시중앙시장          0              0                    0\n",
       "1         (주)서시장          0              0                    0\n",
       "2        (주)신정시장          0              0                    0\n",
       "3        (주)야음시장          0              0                    0\n",
       "4      (주)여수수산시장          0              0                    0\n",
       "...          ...        ...            ...                  ...\n",
       "1309        후생시장          0              0                    0\n",
       "1310        후암시장          0              0                    0\n",
       "1311        후포시장          0              0                    0\n",
       "1312      흥덕전통시장          0              0                    0\n",
       "1313        흥해시장          0              0                    0\n",
       "\n",
       "[1314 rows x 4 columns]"
      ]
     },
     "execution_count": 66,
     "metadata": {},
     "output_type": "execute_result"
    }
   ],
   "source": [
    "from functools import reduce\n",
    "\n",
    "merge_set = reduce(lambda x,y: pd.merge(x,y, on='시장(상점가명)', how='outer'), [market_centre,pop_market_yn,pop_lofor_market_yn])\n",
    "merge_set"
   ]
  },
  {
   "cell_type": "code",
   "execution_count": 67,
   "id": "f0adb37f",
   "metadata": {
    "ExecuteTime": {
     "end_time": "2023-07-15T08:02:54.037039Z",
     "start_time": "2023-07-15T08:02:54.027383Z"
    }
   },
   "outputs": [],
   "source": [
    "merge_set.to_csv('make_y.csv',index=False)"
   ]
  },
  {
   "cell_type": "markdown",
   "id": "13889b96",
   "metadata": {},
   "source": [
    "### END OF SCRIPT"
   ]
  },
  {
   "cell_type": "code",
   "execution_count": null,
   "id": "0fb02331",
   "metadata": {
    "ExecuteTime": {
     "end_time": "2023-07-15T05:02:19.838817Z",
     "start_time": "2023-07-15T05:02:19.815876Z"
    }
   },
   "outputs": [],
   "source": [
    "# #중심관광지에 있지만 code_market_count와 이름이 다른 것\n",
    "# set(centre_yn['관광지명']) - set(market_centre[market_centre[0] == 1]['시장(상점가명)'])\n",
    "\n",
    "# list(market_centre[market_centre[0] == 0]['시장(상점가명)'])\n",
    "# 신정시장 = 신정상가시장,신정평화시장 (울산)\n",
    "# 신정제일시장(서울)...\n",
    "\n",
    "# -> 시장끼리 위치가 비슷한 곳 묶어버리기"
   ]
  },
  {
   "cell_type": "code",
   "execution_count": null,
   "id": "9853ce5f",
   "metadata": {
    "ExecuteTime": {
     "end_time": "2023-07-15T05:15:01.288521Z",
     "start_time": "2023-07-15T05:15:01.216314Z"
    }
   },
   "outputs": [],
   "source": [
    "# print(len(centre_yn))\n",
    "# for i in range(len(centre_yn)):\n",
    "#     centre_yn['시군구'][i] = centre_yn['주소'][i].split(' ')[0] + ' ' +centre_yn['주소'][i].split(' ')[1]\n",
    "    \n",
    "# centre_yn"
   ]
  },
  {
   "cell_type": "code",
   "execution_count": null,
   "id": "68154136",
   "metadata": {
    "ExecuteTime": {
     "end_time": "2023-07-15T05:15:03.695899Z",
     "start_time": "2023-07-15T05:15:03.683902Z"
    }
   },
   "outputs": [],
   "source": [
    "# #for i in centre_yn['시군구'].unique():\n",
    "# centre_yn['시군구'].unique()"
   ]
  },
  {
   "cell_type": "code",
   "execution_count": null,
   "id": "6bd7e6e3",
   "metadata": {
    "ExecuteTime": {
     "end_time": "2023-07-15T05:15:17.119034Z",
     "start_time": "2023-07-15T05:15:17.103034Z"
    }
   },
   "outputs": [],
   "source": [
    "# centre_yn[centre_yn['시군구'] == '부산 중구']"
   ]
  },
  {
   "cell_type": "code",
   "execution_count": null,
   "id": "dc92135e",
   "metadata": {
    "ExecuteTime": {
     "end_time": "2023-07-15T05:23:19.173129Z",
     "start_time": "2023-07-15T05:23:18.828480Z"
    }
   },
   "outputs": [],
   "source": [
    "# import folium\n",
    "\n",
    "# def map_reset(lat,lon):\n",
    "#     new_map = folium.Map([lat,lon],zoom_start=7, tiles='cartodbpositron')\n",
    "#     return new_map\n",
    "\n",
    "# def map_marker(new_map,df,color,radius):\n",
    "#     df = df[df['Latitude'].notnull() == True]\n",
    "#     for i in range(len(df)):\n",
    "#         try:\n",
    "#             folium.Circle([df['Latitude'][i],df['Longitude'][i]],\n",
    "#                       color='#fffggg',radius=radius,\n",
    "#                      fill_color= color).add_to(new_map)\n",
    "#         except:\n",
    "#             pass\n",
    "#     return new_map"
   ]
  },
  {
   "cell_type": "code",
   "execution_count": null,
   "id": "145655db",
   "metadata": {
    "ExecuteTime": {
     "end_time": "2023-07-15T05:28:29.634153Z",
     "start_time": "2023-07-15T05:28:29.544491Z"
    }
   },
   "outputs": [],
   "source": [
    "# new_map = map_reset(centre_yn['Latitude'].mean(),centre_yn['Longitude'].mean())\n",
    "# map_marker(new_map,centre_yn,'green',radius=500)\n",
    "# #전통시장 위치"
   ]
  },
  {
   "cell_type": "code",
   "execution_count": null,
   "id": "ee443828",
   "metadata": {
    "ExecuteTime": {
     "end_time": "2023-07-15T05:02:23.248386Z",
     "start_time": "2023-07-15T05:02:23.225573Z"
    }
   },
   "outputs": [],
   "source": [
    "# def caculate_distance_w_market(standard_data, data, standard_datacolumns, datacolumns, radius):\n",
    "#     from geopy.distance import geodesic\n",
    "#     try :\n",
    "#         df_list = []\n",
    "\n",
    "#         for i in range(len(standard_data)):\n",
    "#             current_location = (standard_data['Latitude'][i], standard_data['Longitude'][i])\n",
    "            \n",
    "#             for j in range(len(data)):\n",
    "#                 location = (data['Latitude'][j], data['Longitude'][j])\n",
    "#                 distance = geodesic(current_location, location).meters\n",
    "\n",
    "#                 if distance <= radius:\n",
    "#                     df_list.append([\n",
    "#                         standard_data[standard_datacolumns][i],\n",
    "#                         standard_data['Latitude'][i],\n",
    "#                         standard_data['Longitude'][i],\n",
    "#                         data[datacolumns][j],\n",
    "#                         data['Latitude'][j],\n",
    "#                         data['Longitude'][j]\n",
    "#                     ])\n",
    "#     except :\n",
    "#         print('pass')\n",
    "#         pass\n",
    "    \n",
    "#     try:\n",
    "#         df = pd.DataFrame(df_list)\n",
    "#         df.columns = ['시장(상점가명)','Latitude','Longitude','관광지명','위도(관광지)','경도(관광지)']\n",
    "#         df = df.drop_duplicates(['시장(상점가명)','관광지명'], keep = 'first')\n",
    "        \n",
    "#     except :\n",
    "#         pass\n",
    "\n",
    "#     return df"
   ]
  },
  {
   "cell_type": "code",
   "execution_count": null,
   "id": "fcbc9bcd",
   "metadata": {
    "ExecuteTime": {
     "end_time": "2023-07-15T05:38:20.689146Z",
     "start_time": "2023-07-15T05:38:17.101123Z"
    }
   },
   "outputs": [],
   "source": [
    "# #500미터 안에 있는 시장 -> 같은 시장이라고 봐도 무방\n",
    "# df_centre = caculate_distance_w_market(centre_yn,centre_yn,'관광지명','관광지명',300)\n",
    "# df_centre[df_centre['시장(상점가명)'] != df_centre['관광지명']]"
   ]
  },
  {
   "cell_type": "code",
   "execution_count": null,
   "id": "cbfed8b9",
   "metadata": {
    "ExecuteTime": {
     "end_time": "2023-07-15T05:52:49.978716Z",
     "start_time": "2023-07-15T05:52:49.952047Z"
    }
   },
   "outputs": [],
   "source": [
    "# code_market_count['시장(상점가명)']"
   ]
  },
  {
   "cell_type": "code",
   "execution_count": null,
   "id": "c855c7b2",
   "metadata": {
    "ExecuteTime": {
     "end_time": "2023-07-15T06:34:42.721960Z",
     "start_time": "2023-07-15T06:34:42.648511Z"
    }
   },
   "outputs": [],
   "source": [
    "# new_map = map_reset(centre_yn['Latitude'].mean(),centre_yn['Longitude'].mean())\n",
    "# map_marker(new_map,df_c,'green',radius=500)\n",
    "# #전통시장 위치"
   ]
  },
  {
   "cell_type": "code",
   "execution_count": null,
   "id": "35061463",
   "metadata": {},
   "outputs": [],
   "source": [
    "# market_centry = caculate_distance_w_market(code_market_count,centre_yn,'시장(상점가명)','관광지명',300)\n",
    "# market_centry"
   ]
  },
  {
   "cell_type": "code",
   "execution_count": null,
   "id": "1ed3bc65",
   "metadata": {
    "ExecuteTime": {
     "end_time": "2023-07-15T06:04:32.892322Z",
     "start_time": "2023-07-15T06:04:32.851520Z"
    }
   },
   "outputs": [],
   "source": [
    "# #시장(상점가명)이 관광지명 시장과 300미터 안에 존재\n",
    "# df_cen = caculate_distance_w_market(code_market_count,code_market_count,'시장(상점가명)','시장(상점가명)',300)\n",
    "# df_cen = df_cen[df_cen['시장(상점가명)'] != df_cen['관광지명']]\n",
    "# df_cen"
   ]
  },
  {
   "cell_type": "code",
   "execution_count": null,
   "id": "1bdb0ef5",
   "metadata": {
    "ExecuteTime": {
     "end_time": "2023-07-15T06:17:57.782799Z",
     "start_time": "2023-07-15T06:17:09.702225Z"
    }
   },
   "outputs": [],
   "source": [
    "# #시장(상점가명)이 관광지명 시장과 100미터 안에 존재\n",
    "# df_c = caculate_distance_w_market(code_market_count,centre_yn,'시장(상점가명)','관광지명',100)\n",
    "# df_c = df_c[df_c['시장(상점가명)'] != df_c['관광지명']]\n",
    "# df_c\n",
    "\n",
    "# #이름으로 네이버 위치 찍어보니 다 다름... \n",
    "# # 사용 불가"
   ]
  },
  {
   "cell_type": "code",
   "execution_count": null,
   "id": "4962a306",
   "metadata": {
    "ExecuteTime": {
     "end_time": "2023-07-15T04:12:09.348856Z",
     "start_time": "2023-07-15T04:12:09.334617Z"
    }
   },
   "outputs": [],
   "source": [
    "# maket_in_centre = df_cen['시장' in list(df_cen['시장(상점가명)']) & '시장' in list(df_cen['관광지명'])]\n",
    "# maket_in_centre"
   ]
  },
  {
   "cell_type": "code",
   "execution_count": null,
   "id": "8ad85237",
   "metadata": {},
   "outputs": [],
   "source": []
  },
  {
   "cell_type": "code",
   "execution_count": null,
   "id": "22ea55c1",
   "metadata": {
    "ExecuteTime": {
     "end_time": "2023-07-15T06:19:53.879329Z",
     "start_time": "2023-07-15T06:19:53.851329Z"
    }
   },
   "outputs": [],
   "source": []
  },
  {
   "cell_type": "code",
   "execution_count": null,
   "id": "b8ebc7a6",
   "metadata": {},
   "outputs": [],
   "source": []
  }
 ],
 "metadata": {
  "kernelspec": {
   "display_name": "Python [conda env:root] *",
   "language": "python",
   "name": "conda-root-py"
  },
  "language_info": {
   "codemirror_mode": {
    "name": "ipython",
    "version": 3
   },
   "file_extension": ".py",
   "mimetype": "text/x-python",
   "name": "python",
   "nbconvert_exporter": "python",
   "pygments_lexer": "ipython3",
   "version": "3.8.8"
  },
  "toc": {
   "base_numbering": 1,
   "nav_menu": {},
   "number_sections": true,
   "sideBar": true,
   "skip_h1_title": false,
   "title_cell": "Table of Contents",
   "title_sidebar": "Contents",
   "toc_cell": false,
   "toc_position": {},
   "toc_section_display": true,
   "toc_window_display": false
  }
 },
 "nbformat": 4,
 "nbformat_minor": 5
}
